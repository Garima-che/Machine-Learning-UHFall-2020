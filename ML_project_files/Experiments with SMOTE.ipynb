{
  "nbformat": 4,
  "nbformat_minor": 0,
  "metadata": {
    "colab": {
      "name": "SMOTE.ipynb",
      "provenance": [],
      "collapsed_sections": [],
      "toc_visible": true
    },
    "kernelspec": {
      "display_name": "Python 3",
      "language": "python",
      "name": "python3"
    },
    "language_info": {
      "codemirror_mode": {
        "name": "ipython",
        "version": 3
      },
      "file_extension": ".py",
      "mimetype": "text/x-python",
      "name": "python",
      "nbconvert_exporter": "python",
      "pygments_lexer": "ipython3",
      "version": "3.8.3"
    }
  },
  "cells": [
    {
      "cell_type": "markdown",
      "metadata": {
        "id": "CazISR8X_HUG"
      },
      "source": [
        "# Survival Classification Using SMOTE"
      ]
    },
    {
      "cell_type": "markdown",
      "metadata": {
        "id": "pOyqYHTk_Q57"
      },
      "source": [
        "## Importing libraries and packages"
      ]
    },
    {
      "cell_type": "code",
      "metadata": {
        "id": "T_YHJjnD_Tja"
      },
      "source": [
        "# importing libraries\n",
        "import numpy as np\n",
        "import matplotlib.pyplot as plt\n",
        "import pandas as pd\n",
        "import seaborn as sns\n",
        "from sklearn.metrics import f1_score\n",
        "from sklearn.metrics import matthews_corrcoef\n",
        "import os"
      ],
      "execution_count": null,
      "outputs": []
    },
    {
      "cell_type": "markdown",
      "metadata": {
        "id": "vgC61-ah_WIz"
      },
      "source": [
        "## Importing the dataset"
      ]
    },
    {
      "cell_type": "code",
      "metadata": {
        "colab": {
          "base_uri": "https://localhost:8080/",
          "height": 224
        },
        "id": "UrxyEKGn_ez7",
        "outputId": "082028ef-6411-44a3-82f6-4a270658a7da"
      },
      "source": [
        "%matplotlib inline\n",
        "sns.set_style('whitegrid')\n",
        "df = pd.read_csv(r'heart_failure_clinical_records_dataset.csv')\n",
        "df.head(5)\n"
      ],
      "execution_count": null,
      "outputs": [
        {
          "output_type": "execute_result",
          "data": {
            "text/html": [
              "<div>\n",
              "<style scoped>\n",
              "    .dataframe tbody tr th:only-of-type {\n",
              "        vertical-align: middle;\n",
              "    }\n",
              "\n",
              "    .dataframe tbody tr th {\n",
              "        vertical-align: top;\n",
              "    }\n",
              "\n",
              "    .dataframe thead th {\n",
              "        text-align: right;\n",
              "    }\n",
              "</style>\n",
              "<table border=\"1\" class=\"dataframe\">\n",
              "  <thead>\n",
              "    <tr style=\"text-align: right;\">\n",
              "      <th></th>\n",
              "      <th>age</th>\n",
              "      <th>anaemia</th>\n",
              "      <th>creatinine_phosphokinase</th>\n",
              "      <th>diabetes</th>\n",
              "      <th>ejection_fraction</th>\n",
              "      <th>high_blood_pressure</th>\n",
              "      <th>platelets</th>\n",
              "      <th>serum_creatinine</th>\n",
              "      <th>serum_sodium</th>\n",
              "      <th>sex</th>\n",
              "      <th>smoking</th>\n",
              "      <th>time</th>\n",
              "      <th>DEATH_EVENT</th>\n",
              "    </tr>\n",
              "  </thead>\n",
              "  <tbody>\n",
              "    <tr>\n",
              "      <th>0</th>\n",
              "      <td>75.0</td>\n",
              "      <td>0</td>\n",
              "      <td>582</td>\n",
              "      <td>0</td>\n",
              "      <td>20</td>\n",
              "      <td>1</td>\n",
              "      <td>265000.00</td>\n",
              "      <td>1.9</td>\n",
              "      <td>130</td>\n",
              "      <td>1</td>\n",
              "      <td>0</td>\n",
              "      <td>4</td>\n",
              "      <td>1</td>\n",
              "    </tr>\n",
              "    <tr>\n",
              "      <th>1</th>\n",
              "      <td>55.0</td>\n",
              "      <td>0</td>\n",
              "      <td>7861</td>\n",
              "      <td>0</td>\n",
              "      <td>38</td>\n",
              "      <td>0</td>\n",
              "      <td>263358.03</td>\n",
              "      <td>1.1</td>\n",
              "      <td>136</td>\n",
              "      <td>1</td>\n",
              "      <td>0</td>\n",
              "      <td>6</td>\n",
              "      <td>1</td>\n",
              "    </tr>\n",
              "    <tr>\n",
              "      <th>2</th>\n",
              "      <td>65.0</td>\n",
              "      <td>0</td>\n",
              "      <td>146</td>\n",
              "      <td>0</td>\n",
              "      <td>20</td>\n",
              "      <td>0</td>\n",
              "      <td>162000.00</td>\n",
              "      <td>1.3</td>\n",
              "      <td>129</td>\n",
              "      <td>1</td>\n",
              "      <td>1</td>\n",
              "      <td>7</td>\n",
              "      <td>1</td>\n",
              "    </tr>\n",
              "    <tr>\n",
              "      <th>3</th>\n",
              "      <td>50.0</td>\n",
              "      <td>1</td>\n",
              "      <td>111</td>\n",
              "      <td>0</td>\n",
              "      <td>20</td>\n",
              "      <td>0</td>\n",
              "      <td>210000.00</td>\n",
              "      <td>1.9</td>\n",
              "      <td>137</td>\n",
              "      <td>1</td>\n",
              "      <td>0</td>\n",
              "      <td>7</td>\n",
              "      <td>1</td>\n",
              "    </tr>\n",
              "    <tr>\n",
              "      <th>4</th>\n",
              "      <td>65.0</td>\n",
              "      <td>1</td>\n",
              "      <td>160</td>\n",
              "      <td>1</td>\n",
              "      <td>20</td>\n",
              "      <td>0</td>\n",
              "      <td>327000.00</td>\n",
              "      <td>2.7</td>\n",
              "      <td>116</td>\n",
              "      <td>0</td>\n",
              "      <td>0</td>\n",
              "      <td>8</td>\n",
              "      <td>1</td>\n",
              "    </tr>\n",
              "  </tbody>\n",
              "</table>\n",
              "</div>"
            ],
            "text/plain": [
              "    age  anaemia  creatinine_phosphokinase  ...  smoking  time  DEATH_EVENT\n",
              "0  75.0        0                       582  ...        0     4            1\n",
              "1  55.0        0                      7861  ...        0     6            1\n",
              "2  65.0        0                       146  ...        1     7            1\n",
              "3  50.0        1                       111  ...        0     7            1\n",
              "4  65.0        1                       160  ...        0     8            1\n",
              "\n",
              "[5 rows x 13 columns]"
            ]
          },
          "metadata": {
            "tags": []
          },
          "execution_count": 14
        }
      ]
    },
    {
      "cell_type": "code",
      "metadata": {
        "id": "o2Sx2U0Q_bP6"
      },
      "source": [
        "# Selecting only 3 highest correlated features (from random forest ranking and pearson correlation)\n",
        "df = pd.DataFrame(df.iloc[:,[0,4,7,-1]])"
      ],
      "execution_count": null,
      "outputs": []
    },
    {
      "cell_type": "code",
      "metadata": {
        "colab": {
          "base_uri": "https://localhost:8080/",
          "height": 419
        },
        "id": "zv1NVXQ-iX6X",
        "outputId": "15edc053-c4e5-4a3c-fd30-266229df8375"
      },
      "source": [
        "df"
      ],
      "execution_count": null,
      "outputs": [
        {
          "output_type": "execute_result",
          "data": {
            "text/html": [
              "<div>\n",
              "<style scoped>\n",
              "    .dataframe tbody tr th:only-of-type {\n",
              "        vertical-align: middle;\n",
              "    }\n",
              "\n",
              "    .dataframe tbody tr th {\n",
              "        vertical-align: top;\n",
              "    }\n",
              "\n",
              "    .dataframe thead th {\n",
              "        text-align: right;\n",
              "    }\n",
              "</style>\n",
              "<table border=\"1\" class=\"dataframe\">\n",
              "  <thead>\n",
              "    <tr style=\"text-align: right;\">\n",
              "      <th></th>\n",
              "      <th>age</th>\n",
              "      <th>ejection_fraction</th>\n",
              "      <th>serum_creatinine</th>\n",
              "      <th>DEATH_EVENT</th>\n",
              "    </tr>\n",
              "  </thead>\n",
              "  <tbody>\n",
              "    <tr>\n",
              "      <th>0</th>\n",
              "      <td>75.0</td>\n",
              "      <td>20</td>\n",
              "      <td>1.9</td>\n",
              "      <td>1</td>\n",
              "    </tr>\n",
              "    <tr>\n",
              "      <th>1</th>\n",
              "      <td>55.0</td>\n",
              "      <td>38</td>\n",
              "      <td>1.1</td>\n",
              "      <td>1</td>\n",
              "    </tr>\n",
              "    <tr>\n",
              "      <th>2</th>\n",
              "      <td>65.0</td>\n",
              "      <td>20</td>\n",
              "      <td>1.3</td>\n",
              "      <td>1</td>\n",
              "    </tr>\n",
              "    <tr>\n",
              "      <th>3</th>\n",
              "      <td>50.0</td>\n",
              "      <td>20</td>\n",
              "      <td>1.9</td>\n",
              "      <td>1</td>\n",
              "    </tr>\n",
              "    <tr>\n",
              "      <th>4</th>\n",
              "      <td>65.0</td>\n",
              "      <td>20</td>\n",
              "      <td>2.7</td>\n",
              "      <td>1</td>\n",
              "    </tr>\n",
              "    <tr>\n",
              "      <th>...</th>\n",
              "      <td>...</td>\n",
              "      <td>...</td>\n",
              "      <td>...</td>\n",
              "      <td>...</td>\n",
              "    </tr>\n",
              "    <tr>\n",
              "      <th>294</th>\n",
              "      <td>62.0</td>\n",
              "      <td>38</td>\n",
              "      <td>1.1</td>\n",
              "      <td>0</td>\n",
              "    </tr>\n",
              "    <tr>\n",
              "      <th>295</th>\n",
              "      <td>55.0</td>\n",
              "      <td>38</td>\n",
              "      <td>1.2</td>\n",
              "      <td>0</td>\n",
              "    </tr>\n",
              "    <tr>\n",
              "      <th>296</th>\n",
              "      <td>45.0</td>\n",
              "      <td>60</td>\n",
              "      <td>0.8</td>\n",
              "      <td>0</td>\n",
              "    </tr>\n",
              "    <tr>\n",
              "      <th>297</th>\n",
              "      <td>45.0</td>\n",
              "      <td>38</td>\n",
              "      <td>1.4</td>\n",
              "      <td>0</td>\n",
              "    </tr>\n",
              "    <tr>\n",
              "      <th>298</th>\n",
              "      <td>50.0</td>\n",
              "      <td>45</td>\n",
              "      <td>1.6</td>\n",
              "      <td>0</td>\n",
              "    </tr>\n",
              "  </tbody>\n",
              "</table>\n",
              "<p>299 rows × 4 columns</p>\n",
              "</div>"
            ],
            "text/plain": [
              "      age  ejection_fraction  serum_creatinine  DEATH_EVENT\n",
              "0    75.0                 20               1.9            1\n",
              "1    55.0                 38               1.1            1\n",
              "2    65.0                 20               1.3            1\n",
              "3    50.0                 20               1.9            1\n",
              "4    65.0                 20               2.7            1\n",
              "..    ...                ...               ...          ...\n",
              "294  62.0                 38               1.1            0\n",
              "295  55.0                 38               1.2            0\n",
              "296  45.0                 60               0.8            0\n",
              "297  45.0                 38               1.4            0\n",
              "298  50.0                 45               1.6            0\n",
              "\n",
              "[299 rows x 4 columns]"
            ]
          },
          "metadata": {
            "tags": []
          },
          "execution_count": 9
        }
      ]
    },
    {
      "cell_type": "code",
      "metadata": {
        "scrolled": false,
        "id": "1dXG9eZb_bP6",
        "colab": {
          "base_uri": "https://localhost:8080/"
        },
        "outputId": "761256f6-95bc-4831-ebfc-33ff31f3eea7"
      },
      "source": [
        "# Appending the list of attributes to be used later when coupling- decoupling the dataframe\n",
        "ListAttr = []\n",
        "lengthOfList = len(df)\n",
        "for i in df:\n",
        "    print(i)\n",
        "    ListAttr.append(i)\n",
        "   \n"
      ],
      "execution_count": null,
      "outputs": [
        {
          "output_type": "stream",
          "text": [
            "age\n",
            "ejection_fraction\n",
            "serum_creatinine\n",
            "DEATH_EVENT\n"
          ],
          "name": "stdout"
        }
      ]
    },
    {
      "cell_type": "markdown",
      "metadata": {
        "id": "j7Xi824E_bP7"
      },
      "source": [
        "## Splitting the dataframe in train and test sets"
      ]
    },
    {
      "cell_type": "code",
      "metadata": {
        "id": "OXWJIsFK_bP7"
      },
      "source": [
        "from sklearn.model_selection import train_test_split\n",
        "df_train, df_test = train_test_split(df.iloc[:,:], test_size = 0.2, random_state = 0)\n",
        "#print(df_train)"
      ],
      "execution_count": null,
      "outputs": []
    },
    {
      "cell_type": "markdown",
      "metadata": {
        "id": "fkxyGiX7_bP7"
      },
      "source": [
        "## Scaling the train set features "
      ]
    },
    {
      "cell_type": "code",
      "metadata": {
        "id": "f60dJMfi_bP7"
      },
      "source": [
        "from sklearn.preprocessing import MinMaxScaler\n",
        "min_max_scaler = MinMaxScaler()\n",
        "df_train_scaled= min_max_scaler.fit_transform(df_train)\n",
        "\n",
        "df_train_scaled= pd.DataFrame(data= df_train_scaled, columns=ListAttr)\n",
        "#print(df_train_scaled)\n",
        "df_test_scaled= min_max_scaler.transform(df_test)\n",
        "df_test_scaled= pd.DataFrame(data= df_test_scaled, columns=ListAttr)\n",
        "#print(df_test_scaled)"
      ],
      "execution_count": null,
      "outputs": []
    },
    {
      "cell_type": "markdown",
      "metadata": {
        "id": "vnSy40La_bP7"
      },
      "source": [
        "## Defining independent and dependent variables"
      ]
    },
    {
      "cell_type": "code",
      "metadata": {
        "id": "LhZBOF6T_bP7"
      },
      "source": [
        "X_train=df_train_scaled.iloc[:, 0:-1]\n",
        "y_train=df_train_scaled.iloc[:,-1]\n",
        "X_test=df_test_scaled.iloc[:,0:-1]\n",
        "y_test=df_test_scaled.iloc[:,-1]\n",
        "#print(X_train)\n",
        "#print(y_train)\n"
      ],
      "execution_count": null,
      "outputs": []
    },
    {
      "cell_type": "markdown",
      "metadata": {
        "id": "VoZcgrse_bP6"
      },
      "source": [
        "## Dealing with data imbalance"
      ]
    },
    {
      "cell_type": "markdown",
      "metadata": {
        "id": "r7_qjDoJtcG5"
      },
      "source": [
        "### Using SMOTE to create synthetic data"
      ]
    },
    {
      "cell_type": "code",
      "metadata": {
        "colab": {
          "base_uri": "https://localhost:8080/"
        },
        "id": "iyJ1hrP3_bP7",
        "outputId": "e233db48-00fa-427b-8646-261705fe844c"
      },
      "source": [
        "# To study the effect without SMOTE, comment ou this cell.\n",
        "from imblearn.over_sampling import SMOTE\n",
        "\n",
        "sm = SMOTE(sampling_strategy = 'auto')\n",
        "X_train, y_train = sm.fit_sample(X_train, y_train)\n"
      ],
      "execution_count": null,
      "outputs": [
        {
          "output_type": "stream",
          "text": [
            "/usr/local/lib/python3.6/dist-packages/sklearn/externals/six.py:31: FutureWarning: The module is deprecated in version 0.21 and will be removed in version 0.23 since we've dropped support for Python 2.7. Please rely on the official version of six (https://pypi.org/project/six/).\n",
            "  \"(https://pypi.org/project/six/).\", FutureWarning)\n",
            "/usr/local/lib/python3.6/dist-packages/sklearn/utils/deprecation.py:144: FutureWarning: The sklearn.neighbors.base module is  deprecated in version 0.22 and will be removed in version 0.24. The corresponding classes / functions should instead be imported from sklearn.neighbors. Anything that cannot be imported from sklearn.neighbors is now part of the private API.\n",
            "  warnings.warn(message, FutureWarning)\n",
            "/usr/local/lib/python3.6/dist-packages/sklearn/utils/deprecation.py:87: FutureWarning: Function safe_indexing is deprecated; safe_indexing is deprecated in version 0.22 and will be removed in version 0.24.\n",
            "  warnings.warn(msg, category=FutureWarning)\n"
          ],
          "name": "stderr"
        }
      ]
    },
    {
      "cell_type": "markdown",
      "metadata": {
        "id": "vu4HalpR_bP7"
      },
      "source": [
        "## Training the model"
      ]
    },
    {
      "cell_type": "markdown",
      "metadata": {
        "id": "0zcA3SWR_bP7"
      },
      "source": [
        "\n",
        "### SVM model"
      ]
    },
    {
      "cell_type": "code",
      "metadata": {
        "colab": {
          "base_uri": "https://localhost:8080/"
        },
        "id": "ywPjx0L1BMiD",
        "outputId": "f25664c6-767c-49a7-a7bc-d554aac9e144"
      },
      "source": [
        "from sklearn import svm\n",
        "from sklearn.model_selection import GridSearchCV\n",
        "from sklearn.metrics import confusion_matrix, accuracy_score\n",
        "parameters = {'kernel':('linear', 'rbf','poly'), 'C':[0.1, 1, 10,100],'gamma':[0.1, 1, 10] }\n",
        "svc = svm.SVC()\n",
        "clf = GridSearchCV(svc, parameters)\n",
        "clf.fit(X_train, y_train)\n",
        "y_pred_SVM_CV = clf.predict(X_test)\n",
        "\n",
        "print(\"Using the score funtion:\",clf.score(X_test,y_test))\n",
        "print(\"The best param is:\", clf.best_params_)\n",
        "\n",
        "#for i in clf.cv_results_:\n",
        "#    print(i)\n",
        "#print(clf.cv_results_['params'])\n",
        "#print(clf.cv_results_['mean_test_score'])\n",
        "\n",
        "#checking results\n",
        "cm = confusion_matrix(y_test, y_pred_SVM_CV)\n",
        "print(cm)\n",
        "print(\"Accuracy Score:\",accuracy_score(y_test, y_pred_SVM_CV))\n",
        "print(\"F1 score:\",f1_score(y_test, y_pred_SVM_CV, average='macro'))\n",
        "print(\"MCC Score:\",matthews_corrcoef(y_test, y_pred_SVM_CV))"
      ],
      "execution_count": null,
      "outputs": [
        {
          "output_type": "stream",
          "text": [
            "Using the score funtion: 0.8\n",
            "The best param is: {'C': 10, 'gamma': 10, 'kernel': 'rbf'}\n",
            "[[32  5]\n",
            " [ 7 16]]\n",
            "Accuracy Score: 0.8\n",
            "F1 score: 0.7846889952153109\n",
            "MCC Score: 0.5713623881818716\n"
          ],
          "name": "stdout"
        }
      ]
    },
    {
      "cell_type": "markdown",
      "metadata": {
        "id": "9N31tqur_bP7"
      },
      "source": [
        "### Neural network"
      ]
    },
    {
      "cell_type": "code",
      "metadata": {
        "id": "vjGAiCrj_bP7",
        "colab": {
          "base_uri": "https://localhost:8080/"
        },
        "outputId": "4d3fea6d-1383-4305-fb1c-9196e4e78409"
      },
      "source": [
        "#Trying Neural Networks (multilayer perceptron)\n",
        "from sklearn.neural_network import MLPClassifier\n",
        "maxScore = 0\n",
        "maxi = 0\n",
        "maxj = 0\n",
        "for i in range(2,6):\n",
        "    for j in range(2,6):\n",
        "        clf_nn = MLPClassifier(solver='lbfgs',alpha=1e-5,hidden_layer_sizes=(i,j),random_state = 1)\n",
        "        clf_nn.fit(X_train, y_train)#,batch_size=57, epochs=1000, validation_split=0.2)\n",
        "        y_pred_nn = clf_nn.predict(X_test)\n",
        "        print(\"*\"*20)\n",
        "#         print(clf_nn.loss_)\n",
        "        print(\"loss = %f\" %(clf_nn.loss_))\n",
        "\n",
        "\n",
        "\n",
        "        cm = confusion_matrix(y_test, y_pred_nn)\n",
        "        print(\"This is when the layer sizes is: %i,%i\" %(i,j))\n",
        "        print(cm)\n",
        "        Score = accuracy_score(y_test, y_pred_nn)\n",
        "        print(Score)\n",
        "        if (Score > maxScore):\n",
        "            maxScore= Score\n",
        "            maxi = i\n",
        "            maxj = j\n",
        "        print(\"F1 score:\",f1_score(y_test, y_pred_nn, average='macro'))\n",
        "        print(\"MCC Score:\",matthews_corrcoef(y_test, y_pred_nn))\n",
        "print(\"the best score was when the layer size was: %i,%i with a score of %04f\" %(maxi,maxj,maxScore))\n"
      ],
      "execution_count": null,
      "outputs": [
        {
          "output_type": "stream",
          "text": [
            "********************\n",
            "loss = 0.693147\n",
            "This is when the layer sizes is: 2,2\n",
            "[[37  0]\n",
            " [23  0]]\n",
            "0.6166666666666667\n",
            "F1 score: 0.3814432989690722\n",
            "MCC Score: 0.0\n",
            "********************\n",
            "loss = 0.693147\n",
            "This is when the layer sizes is: 2,3\n",
            "[[ 0 37]\n",
            " [ 0 23]]\n",
            "0.38333333333333336\n",
            "F1 score: 0.27710843373493976\n",
            "MCC Score: 0.0\n",
            "********************\n",
            "loss = 0.693147\n",
            "This is when the layer sizes is: 2,4\n",
            "[[37  0]\n",
            " [23  0]]\n",
            "0.6166666666666667\n",
            "F1 score: 0.3814432989690722\n",
            "MCC Score: 0.0\n",
            "********************\n",
            "loss = 0.693147\n",
            "This is when the layer sizes is: 2,5\n",
            "[[ 0 37]\n",
            " [ 0 23]]\n",
            "0.38333333333333336\n",
            "F1 score: 0.27710843373493976\n",
            "MCC Score: 0.0\n",
            "********************\n",
            "loss = 0.693147\n",
            "This is when the layer sizes is: 3,2\n",
            "[[ 0 37]\n",
            " [ 0 23]]\n",
            "0.38333333333333336\n",
            "F1 score: 0.27710843373493976\n",
            "MCC Score: 0.0\n",
            "********************\n",
            "loss = 0.540080\n",
            "This is when the layer sizes is: 3,3\n",
            "[[30  7]\n",
            " [ 7 16]]\n",
            "0.7666666666666667\n",
            "F1 score: 0.7532314923619272\n",
            "MCC Score: 0.5064629847238543\n"
          ],
          "name": "stdout"
        },
        {
          "output_type": "stream",
          "text": [
            "/usr/local/lib/python3.6/dist-packages/sklearn/metrics/_classification.py:900: RuntimeWarning: invalid value encountered in double_scalars\n",
            "  mcc = cov_ytyp / np.sqrt(cov_ytyt * cov_ypyp)\n",
            "/usr/local/lib/python3.6/dist-packages/sklearn/metrics/_classification.py:900: RuntimeWarning: invalid value encountered in double_scalars\n",
            "  mcc = cov_ytyp / np.sqrt(cov_ytyt * cov_ypyp)\n",
            "/usr/local/lib/python3.6/dist-packages/sklearn/metrics/_classification.py:900: RuntimeWarning: invalid value encountered in double_scalars\n",
            "  mcc = cov_ytyp / np.sqrt(cov_ytyt * cov_ypyp)\n",
            "/usr/local/lib/python3.6/dist-packages/sklearn/metrics/_classification.py:900: RuntimeWarning: invalid value encountered in double_scalars\n",
            "  mcc = cov_ytyp / np.sqrt(cov_ytyt * cov_ypyp)\n",
            "/usr/local/lib/python3.6/dist-packages/sklearn/metrics/_classification.py:900: RuntimeWarning: invalid value encountered in double_scalars\n",
            "  mcc = cov_ytyp / np.sqrt(cov_ytyt * cov_ypyp)\n"
          ],
          "name": "stderr"
        },
        {
          "output_type": "stream",
          "text": [
            "********************\n",
            "loss = 0.548120\n",
            "This is when the layer sizes is: 3,4\n",
            "[[29  8]\n",
            " [ 6 17]]\n",
            "0.7666666666666667\n",
            "F1 score: 0.7569444444444444\n",
            "MCC Score: 0.5156929620972371\n",
            "********************\n",
            "loss = 0.666501\n",
            "This is when the layer sizes is: 3,5\n",
            "[[30  7]\n",
            " [14  9]]\n",
            "0.65\n",
            "F1 score: 0.6011396011396011\n",
            "MCC Score: 0.22221702922157036\n",
            "********************\n",
            "loss = 0.693147\n",
            "This is when the layer sizes is: 4,2\n",
            "[[ 0 37]\n",
            " [ 0 23]]\n",
            "0.38333333333333336\n",
            "F1 score: 0.27710843373493976\n",
            "MCC Score: 0.0\n",
            "********************\n",
            "loss = 0.693147\n",
            "This is when the layer sizes is: 4,3\n",
            "[[ 0 37]\n",
            " [ 0 23]]\n",
            "0.38333333333333336\n",
            "F1 score: 0.27710843373493976\n",
            "MCC Score: 0.0\n",
            "********************\n",
            "loss = 0.480192\n",
            "This is when the layer sizes is: 4,4\n",
            "[[31  6]\n",
            " [ 5 18]]\n",
            "0.8166666666666667\n",
            "F1 score: 0.8076362576508307\n",
            "MCC Score: 0.615761131012764\n"
          ],
          "name": "stdout"
        },
        {
          "output_type": "stream",
          "text": [
            "/usr/local/lib/python3.6/dist-packages/sklearn/metrics/_classification.py:900: RuntimeWarning: invalid value encountered in double_scalars\n",
            "  mcc = cov_ytyp / np.sqrt(cov_ytyt * cov_ypyp)\n",
            "/usr/local/lib/python3.6/dist-packages/sklearn/metrics/_classification.py:900: RuntimeWarning: invalid value encountered in double_scalars\n",
            "  mcc = cov_ytyp / np.sqrt(cov_ytyt * cov_ypyp)\n",
            "/usr/local/lib/python3.6/dist-packages/sklearn/neural_network/_multilayer_perceptron.py:470: ConvergenceWarning: lbfgs failed to converge (status=1):\n",
            "STOP: TOTAL NO. of ITERATIONS REACHED LIMIT.\n",
            "\n",
            "Increase the number of iterations (max_iter) or scale the data as shown in:\n",
            "    https://scikit-learn.org/stable/modules/preprocessing.html\n",
            "  self.n_iter_ = _check_optimize_result(\"lbfgs\", opt_res, self.max_iter)\n"
          ],
          "name": "stderr"
        },
        {
          "output_type": "stream",
          "text": [
            "********************\n",
            "loss = 0.564566\n",
            "This is when the layer sizes is: 4,5\n",
            "[[29  8]\n",
            " [ 6 17]]\n",
            "0.7666666666666667\n",
            "F1 score: 0.7569444444444444\n",
            "MCC Score: 0.5156929620972371\n",
            "********************\n",
            "loss = 0.528026\n",
            "This is when the layer sizes is: 5,2\n",
            "[[31  6]\n",
            " [ 7 16]]\n",
            "0.7833333333333333\n",
            "F1 score: 0.7688888888888887\n",
            "MCC Score: 0.5382548280972278\n",
            "********************\n",
            "loss = 0.542623\n",
            "This is when the layer sizes is: 5,3\n",
            "[[31  6]\n",
            " [ 6 17]]\n",
            "0.8\n",
            "F1 score: 0.7884841363102232\n",
            "MCC Score: 0.5769682726204466\n",
            "********************\n",
            "loss = 0.517731\n",
            "This is when the layer sizes is: 5,4\n",
            "[[30  7]\n",
            " [ 7 16]]\n",
            "0.7666666666666667\n",
            "F1 score: 0.7532314923619272\n",
            "MCC Score: 0.5064629847238543\n",
            "********************\n",
            "loss = 0.527564\n",
            "This is when the layer sizes is: 5,5\n",
            "[[31  6]\n",
            " [ 6 17]]\n",
            "0.8\n",
            "F1 score: 0.7884841363102232\n",
            "MCC Score: 0.5769682726204466\n",
            "the best score was when the layer size was: 4,4 with a score of 0.816667\n"
          ],
          "name": "stdout"
        }
      ]
    },
    {
      "cell_type": "markdown",
      "metadata": {
        "id": "NCrP9VnS_bP7"
      },
      "source": [
        "### Random Forest "
      ]
    },
    {
      "cell_type": "code",
      "metadata": {
        "id": "qC8HZOYr_bP7",
        "colab": {
          "base_uri": "https://localhost:8080/"
        },
        "outputId": "b2a5cb32-10be-4221-c00a-6b98fde60b63"
      },
      "source": [
        "from sklearn.pipeline import Pipeline\n",
        "from sklearn.feature_selection import SelectKBest\n",
        "from sklearn.ensemble import RandomForestClassifier\n",
        "from sklearn.calibration import CalibratedClassifierCV\n",
        "from sklearn.model_selection import GridSearchCV\n",
        "\n",
        "\n",
        "calibrated_forest = CalibratedClassifierCV(base_estimator=RandomForestClassifier(n_estimators=20))\n",
        "\n",
        "\n",
        "pipe = Pipeline([('select', SelectKBest()),('model', calibrated_forest)])\n",
        "param_grid = {'select__k': [1, 2],'model__base_estimator__max_depth': [2, 4, 6, 8]}\n",
        "\n",
        "\n",
        "\n",
        "search = GridSearchCV(pipe, param_grid, cv=5).fit(X_train, y_train)\n",
        "y_pred_Pipe = search.predict(X_test)\n",
        "\n",
        "\n",
        "print(\"Using the score funtion:\",search.score(X_test,y_test))\n",
        "print(\"The best param is:\", search.best_params_)\n",
        "\n",
        "cm = confusion_matrix(y_test, y_pred_Pipe)\n",
        "print(cm)\n",
        "print(\"Accuracy Score:\",accuracy_score(y_test, y_pred_Pipe))\n",
        "print(\"F1 score:\",f1_score(y_test, y_pred_Pipe, average='macro'))\n",
        "print(\"MCC Score:\",matthews_corrcoef(y_test, y_pred_Pipe))\n"
      ],
      "execution_count": null,
      "outputs": [
        {
          "output_type": "stream",
          "text": [
            "Using the score funtion: 0.6833333333333333\n",
            "The best param is: {'model__base_estimator__max_depth': 8, 'select__k': 2}\n",
            "[[26 11]\n",
            " [ 8 15]]\n",
            "Accuracy Score: 0.6833333333333333\n",
            "F1 score: 0.6723196320781835\n",
            "MCC Score: 0.3481897886336749\n"
          ],
          "name": "stdout"
        }
      ]
    },
    {
      "cell_type": "code",
      "metadata": {
        "id": "IpayIBZZ_bP8",
        "colab": {
          "base_uri": "https://localhost:8080/"
        },
        "outputId": "94987b56-1a02-4b4f-df8e-41ff0518ce73"
      },
      "source": [
        "from sklearn.linear_model import LogisticRegression\n",
        "parameters = {'solver':('newton-cg', 'lbfgs', 'liblinear', 'sag', 'saga'), 'C':[0.1, 1, 10,100],'fit_intercept':[True,False]}\n",
        "clf = GridSearchCV(estimator=LogisticRegression(), param_grid=parameters)\n",
        "clf = clf.fit(X_train, y_train)\n",
        "y_pred=clf.predict(X_test)\n",
        "print(\"Using the score funtion:\",clf.score(X_test,y_test))\n",
        "print(\"The best param is:\", clf.best_params_)\n",
        "print(confusion_matrix(y_test, y_pred))\n",
        "print(\"Accuracy Score:\",accuracy_score(y_test, y_pred))\n",
        "print(\"F1 score:\",f1_score(y_test, y_pred, average='macro'))\n",
        "print(\"MCC Score:\",matthews_corrcoef(y_test, y_pred))\n"
      ],
      "execution_count": null,
      "outputs": [
        {
          "output_type": "stream",
          "text": [
            "Using the score funtion: 0.7666666666666667\n",
            "The best param is: {'C': 100, 'fit_intercept': True, 'solver': 'newton-cg'}\n",
            "[[30  7]\n",
            " [ 7 16]]\n",
            "Accuracy Score: 0.7666666666666667\n",
            "F1 score: 0.7532314923619272\n",
            "MCC Score: 0.5064629847238543\n"
          ],
          "name": "stdout"
        }
      ]
    },
    {
      "cell_type": "code",
      "metadata": {
        "id": "RMiuU0ho_bP8",
        "colab": {
          "base_uri": "https://localhost:8080/"
        },
        "outputId": "8d086262-4eaa-4149-81ef-24347d4ba7d0"
      },
      "source": [
        "from sklearn.naive_bayes import GaussianNB\n",
        "gnb = GaussianNB()\n",
        "y_pred = gnb.fit(X_train, y_train).predict(X_test)\n",
        "cm_nb = confusion_matrix(y_test, y_pred)\n",
        "print(cm_nb)\n",
        "print(\"Accuracy Score:\",accuracy_score(y_test, y_pred))\n",
        "print(\"F1 score:\",f1_score(y_test, y_pred, average='macro'))\n",
        "print(\"MCC Score:\",matthews_corrcoef(y_test, y_pred))"
      ],
      "execution_count": null,
      "outputs": [
        {
          "output_type": "stream",
          "text": [
            "[[34  3]\n",
            " [13 10]]\n",
            "Accuracy Score: 0.7333333333333333\n",
            "F1 score: 0.6825396825396826\n",
            "MCC Score: 0.41742755148618044\n"
          ],
          "name": "stdout"
        }
      ]
    }
  ]
}