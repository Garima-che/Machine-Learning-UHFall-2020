{
  "nbformat": 4,
  "nbformat_minor": 0,
  "metadata": {
    "colab": {
      "name": "experiments_with_CBSO_mean.ipynb",
      "provenance": [],
      "collapsed_sections": [],
      "toc_visible": true
    },
    "kernelspec": {
      "display_name": "Python 3",
      "language": "python",
      "name": "python3"
    },
    "language_info": {
      "codemirror_mode": {
        "name": "ipython",
        "version": 3
      },
      "file_extension": ".py",
      "mimetype": "text/x-python",
      "name": "python",
      "nbconvert_exporter": "python",
      "pygments_lexer": "ipython3",
      "version": "3.8.3"
    }
  },
  "cells": [
    {
      "cell_type": "markdown",
      "metadata": {
        "id": "CazISR8X_HUG"
      },
      "source": [
        "# Survival Classification Using mean-CBSO"
      ]
    },
    {
      "cell_type": "markdown",
      "metadata": {
        "id": "pOyqYHTk_Q57"
      },
      "source": [
        "## Importing libraries and packages"
      ]
    },
    {
      "cell_type": "code",
      "metadata": {
        "id": "T_YHJjnD_Tja"
      },
      "source": [
        "# importing libraries\n",
        "import numpy as np\n",
        "import matplotlib.pyplot as plt\n",
        "import pandas as pd\n",
        "import seaborn as sns\n",
        "from sklearn.metrics import f1_score\n",
        "from sklearn.metrics import matthews_corrcoef\n",
        "import os"
      ],
      "execution_count": 49,
      "outputs": []
    },
    {
      "cell_type": "markdown",
      "metadata": {
        "id": "vgC61-ah_WIz"
      },
      "source": [
        "## Importing the dataset"
      ]
    },
    {
      "cell_type": "code",
      "metadata": {
        "colab": {
          "base_uri": "https://localhost:8080/",
          "height": 204
        },
        "id": "UrxyEKGn_ez7",
        "outputId": "7e12e3d4-699a-4b9d-ffc2-19db532a8659"
      },
      "source": [
        "%matplotlib inline\n",
        "sns.set_style('whitegrid')\n",
        "df = pd.read_csv(r'heart_failure_clinical_records_dataset.csv')\n",
        "df.head(5)\n"
      ],
      "execution_count": 50,
      "outputs": [
        {
          "output_type": "execute_result",
          "data": {
            "text/html": [
              "<div>\n",
              "<style scoped>\n",
              "    .dataframe tbody tr th:only-of-type {\n",
              "        vertical-align: middle;\n",
              "    }\n",
              "\n",
              "    .dataframe tbody tr th {\n",
              "        vertical-align: top;\n",
              "    }\n",
              "\n",
              "    .dataframe thead th {\n",
              "        text-align: right;\n",
              "    }\n",
              "</style>\n",
              "<table border=\"1\" class=\"dataframe\">\n",
              "  <thead>\n",
              "    <tr style=\"text-align: right;\">\n",
              "      <th></th>\n",
              "      <th>age</th>\n",
              "      <th>anaemia</th>\n",
              "      <th>creatinine_phosphokinase</th>\n",
              "      <th>diabetes</th>\n",
              "      <th>ejection_fraction</th>\n",
              "      <th>high_blood_pressure</th>\n",
              "      <th>platelets</th>\n",
              "      <th>serum_creatinine</th>\n",
              "      <th>serum_sodium</th>\n",
              "      <th>sex</th>\n",
              "      <th>smoking</th>\n",
              "      <th>time</th>\n",
              "      <th>DEATH_EVENT</th>\n",
              "    </tr>\n",
              "  </thead>\n",
              "  <tbody>\n",
              "    <tr>\n",
              "      <th>0</th>\n",
              "      <td>75.0</td>\n",
              "      <td>0</td>\n",
              "      <td>582</td>\n",
              "      <td>0</td>\n",
              "      <td>20</td>\n",
              "      <td>1</td>\n",
              "      <td>265000.00</td>\n",
              "      <td>1.9</td>\n",
              "      <td>130</td>\n",
              "      <td>1</td>\n",
              "      <td>0</td>\n",
              "      <td>4</td>\n",
              "      <td>1</td>\n",
              "    </tr>\n",
              "    <tr>\n",
              "      <th>1</th>\n",
              "      <td>55.0</td>\n",
              "      <td>0</td>\n",
              "      <td>7861</td>\n",
              "      <td>0</td>\n",
              "      <td>38</td>\n",
              "      <td>0</td>\n",
              "      <td>263358.03</td>\n",
              "      <td>1.1</td>\n",
              "      <td>136</td>\n",
              "      <td>1</td>\n",
              "      <td>0</td>\n",
              "      <td>6</td>\n",
              "      <td>1</td>\n",
              "    </tr>\n",
              "    <tr>\n",
              "      <th>2</th>\n",
              "      <td>65.0</td>\n",
              "      <td>0</td>\n",
              "      <td>146</td>\n",
              "      <td>0</td>\n",
              "      <td>20</td>\n",
              "      <td>0</td>\n",
              "      <td>162000.00</td>\n",
              "      <td>1.3</td>\n",
              "      <td>129</td>\n",
              "      <td>1</td>\n",
              "      <td>1</td>\n",
              "      <td>7</td>\n",
              "      <td>1</td>\n",
              "    </tr>\n",
              "    <tr>\n",
              "      <th>3</th>\n",
              "      <td>50.0</td>\n",
              "      <td>1</td>\n",
              "      <td>111</td>\n",
              "      <td>0</td>\n",
              "      <td>20</td>\n",
              "      <td>0</td>\n",
              "      <td>210000.00</td>\n",
              "      <td>1.9</td>\n",
              "      <td>137</td>\n",
              "      <td>1</td>\n",
              "      <td>0</td>\n",
              "      <td>7</td>\n",
              "      <td>1</td>\n",
              "    </tr>\n",
              "    <tr>\n",
              "      <th>4</th>\n",
              "      <td>65.0</td>\n",
              "      <td>1</td>\n",
              "      <td>160</td>\n",
              "      <td>1</td>\n",
              "      <td>20</td>\n",
              "      <td>0</td>\n",
              "      <td>327000.00</td>\n",
              "      <td>2.7</td>\n",
              "      <td>116</td>\n",
              "      <td>0</td>\n",
              "      <td>0</td>\n",
              "      <td>8</td>\n",
              "      <td>1</td>\n",
              "    </tr>\n",
              "  </tbody>\n",
              "</table>\n",
              "</div>"
            ],
            "text/plain": [
              "    age  anaemia  creatinine_phosphokinase  ...  smoking  time  DEATH_EVENT\n",
              "0  75.0        0                       582  ...        0     4            1\n",
              "1  55.0        0                      7861  ...        0     6            1\n",
              "2  65.0        0                       146  ...        1     7            1\n",
              "3  50.0        1                       111  ...        0     7            1\n",
              "4  65.0        1                       160  ...        0     8            1\n",
              "\n",
              "[5 rows x 13 columns]"
            ]
          },
          "metadata": {
            "tags": []
          },
          "execution_count": 50
        }
      ]
    },
    {
      "cell_type": "code",
      "metadata": {
        "id": "o2Sx2U0Q_bP6"
      },
      "source": [
        "# Selecting only 3 highest correlated features (from random forest ranking and pearson correlation)\n",
        "df = pd.DataFrame(df.iloc[:,[0,4,7,-1]])"
      ],
      "execution_count": 51,
      "outputs": []
    },
    {
      "cell_type": "code",
      "metadata": {
        "scrolled": false,
        "id": "1dXG9eZb_bP6",
        "colab": {
          "base_uri": "https://localhost:8080/"
        },
        "outputId": "c49f18c4-2d64-43c0-a26d-827a8af8044a"
      },
      "source": [
        "# Appending the list of attributes to be used later when coupling- decoupling the dataframe\n",
        "ListAttr = []\n",
        "lengthOfList = len(df)\n",
        "for i in df:\n",
        "    print(i)\n",
        "    ListAttr.append(i)\n",
        "   \n"
      ],
      "execution_count": 52,
      "outputs": [
        {
          "output_type": "stream",
          "text": [
            "age\n",
            "ejection_fraction\n",
            "serum_creatinine\n",
            "DEATH_EVENT\n"
          ],
          "name": "stdout"
        }
      ]
    },
    {
      "cell_type": "markdown",
      "metadata": {
        "id": "j7Xi824E_bP7"
      },
      "source": [
        "## Splitting the dataframe in train and test sets"
      ]
    },
    {
      "cell_type": "code",
      "metadata": {
        "id": "OXWJIsFK_bP7",
        "colab": {
          "base_uri": "https://localhost:8080/"
        },
        "outputId": "bfc9718d-1ed1-4068-d7b9-0ded2076741c"
      },
      "source": [
        "from sklearn.model_selection import train_test_split\n",
        "df_train, df_test = train_test_split(df.iloc[:,:], test_size = 0.2, random_state = 0)\n",
        "print(df_train)"
      ],
      "execution_count": 53,
      "outputs": [
        {
          "output_type": "stream",
          "text": [
            "      age  ejection_fraction  serum_creatinine  DEATH_EVENT\n",
            "134  81.0                 35              1.18            0\n",
            "145  50.0                 30              0.70            0\n",
            "63   45.0                 35              1.00            1\n",
            "292  52.0                 38              1.00            0\n",
            "284  50.0                 40              0.80            0\n",
            "..    ...                ...               ...          ...\n",
            "251  55.0                 35              0.80            0\n",
            "192  50.0                 40              0.70            0\n",
            "117  85.0                 60              3.20            0\n",
            "47   60.0                 38              0.60            1\n",
            "172  70.0                 60              1.10            0\n",
            "\n",
            "[239 rows x 4 columns]\n"
          ],
          "name": "stdout"
        }
      ]
    },
    {
      "cell_type": "markdown",
      "metadata": {
        "id": "fkxyGiX7_bP7"
      },
      "source": [
        "## Scaling the train set features "
      ]
    },
    {
      "cell_type": "code",
      "metadata": {
        "id": "f60dJMfi_bP7"
      },
      "source": [
        "from sklearn.preprocessing import MinMaxScaler\n",
        "min_max_scaler = MinMaxScaler()\n",
        "df_train_scaled= min_max_scaler.fit_transform(df_train)\n",
        "\n",
        "df_train_scaled= pd.DataFrame(data= df_train_scaled, columns=ListAttr)\n",
        "df_test_scaled= min_max_scaler.transform(df_test)\n",
        "df_test_scaled= pd.DataFrame(data= df_test_scaled, columns=ListAttr)"
      ],
      "execution_count": 54,
      "outputs": []
    },
    {
      "cell_type": "code",
      "metadata": {
        "id": "02WTv3Ac27SO"
      },
      "source": [
        "pd.DataFrame(df_test).to_csv(\"df_test.csv\")"
      ],
      "execution_count": 55,
      "outputs": []
    },
    {
      "cell_type": "markdown",
      "metadata": {
        "id": "vnSy40La_bP7"
      },
      "source": [
        "## Defining independent and dependent variables"
      ]
    },
    {
      "cell_type": "code",
      "metadata": {
        "id": "LhZBOF6T_bP7"
      },
      "source": [
        "X_train=df_train_scaled.iloc[:, 0:-1]\n",
        "y_train=df_train_scaled.iloc[:,-1]\n",
        "X_test=df_test_scaled.iloc[:,0:-1]\n",
        "y_test=df_test_scaled.iloc[:,-1]\n"
      ],
      "execution_count": 56,
      "outputs": []
    },
    {
      "cell_type": "code",
      "metadata": {
        "id": "U-9vHocbphIM"
      },
      "source": [
        "pd.DataFrame(df_test_scaled).to_csv(\"df_test_scaled.csv\")"
      ],
      "execution_count": 57,
      "outputs": []
    },
    {
      "cell_type": "markdown",
      "metadata": {
        "id": "VoZcgrse_bP6"
      },
      "source": [
        "## Dealing with data imbalance"
      ]
    },
    {
      "cell_type": "markdown",
      "metadata": {
        "id": "r7_qjDoJtcG5"
      },
      "source": [
        "### Using mean CBSO to create synthetic data"
      ]
    },
    {
      "cell_type": "code",
      "metadata": {
        "id": "YQx64ot4gPXc"
      },
      "source": [
        "import itertools\n",
        "from sklearn.neighbors import NearestNeighbors\n",
        "from sklearn.metrics.pairwise import pairwise_distances\n"
      ],
      "execution_count": 58,
      "outputs": []
    },
    {
      "cell_type": "code",
      "metadata": {
        "id": "Qu1otvRPhQbj"
      },
      "source": [
        "   def __init__(\n",
        "                 proportion=1.0,\n",
        "                 n_neighbors=5,\n",
        "                 C_p=1.3,\n",
        "                 n_jobs=1,\n",
        "                 random_state=None):\n",
        "\n",
        "        proportion = proportion\n",
        "        n_neighbors = n_neighbors\n",
        "        C_p = C_p\n",
        "        n_jobs = n_jobs\n",
        "\n",
        "        set_random_state(random_state)"
      ],
      "execution_count": 59,
      "outputs": []
    },
    {
      "cell_type": "code",
      "metadata": {
        "id": "EI4J7DyshBdG"
      },
      "source": [
        "def set_random_state(random_state):\n",
        "\n",
        "        # _random_state_init = random_state\n",
        "\n",
        "        if random_state is None:\n",
        "           random_state = np.random\n",
        "        elif isinstance(random_state, int):\n",
        "           random_state = np.random.RandomState(random_state)\n",
        "        elif isinstance(random_state, np.random.RandomState):\n",
        "           random_state = random_state\n",
        "        elif random_state is np.random:\n",
        "            random_state = random_state\n",
        "        else:\n",
        "            raise ValueError(\n",
        "                \"random state cannot be initialized by \" + str(random_state))\n",
        "\n",
        "        return random_state    "
      ],
      "execution_count": 60,
      "outputs": []
    },
    {
      "cell_type": "code",
      "metadata": {
        "id": "JPClHhsXvdBI"
      },
      "source": [
        "        proportion=1.0\n",
        "        n_neighbors=5\n",
        "        C_p=1.3\n",
        "        n_jobs=1\n",
        "        random_state=None\n",
        "\n",
        "        random_state = set_random_state(random_state)"
      ],
      "execution_count": 61,
      "outputs": []
    },
    {
      "cell_type": "code",
      "metadata": {
        "id": "adbXYpkr6LiI"
      },
      "source": [
        "class_stats = dict()\n",
        "min_label = maj_label = ''"
      ],
      "execution_count": 62,
      "outputs": []
    },
    {
      "cell_type": "code",
      "metadata": {
        "id": "B2mcBaVgg7gw"
      },
      "source": [
        "def class_label_statistics(X, y):\n",
        "\n",
        "        unique, counts = np.unique(y, return_counts=True)\n",
        "        class_stats = dict(zip(unique, counts))\n",
        "        min_label = unique[0] if counts[0] < counts[1] else unique[1]\n",
        "        maj_label = unique[1] if counts[0] < counts[1] else unique[0]\n",
        "        # shorthands\n",
        "        min_label = min_label\n",
        "        maj_label = maj_label\n",
        "\n",
        "        return class_stats, min_label, maj_label"
      ],
      "execution_count": 63,
      "outputs": []
    },
    {
      "cell_type": "code",
      "metadata": {
        "id": "vMUWFtvmg-CT"
      },
      "source": [
        "def det_n_to_sample(strategy, n_maj, n_min):\n",
        "        if isinstance(strategy, float) or isinstance(strategy, int):\n",
        "            return max([0, int((n_maj - n_min)*strategy)])\n",
        "        else:\n",
        "            m = \"Value %s for parameter strategy is not supported\" % strategy\n",
        "            raise ValueError(__class__.__name__ + \": \" + m)"
      ],
      "execution_count": 64,
      "outputs": []
    },
    {
      "cell_type": "code",
      "metadata": {
        "id": "Frazz5UHhGdC"
      },
      "source": [
        " def sample_between_points(x, y):\n",
        "        return x + (y - x)*random_state.random_sample()"
      ],
      "execution_count": 65,
      "outputs": []
    },
    {
      "cell_type": "code",
      "metadata": {
        "id": "-Bf3VgiLhNCB"
      },
      "source": [
        "\n",
        "def generate_parameter_combinations(dictionary, raw):\n",
        "\n",
        "      if raw:\n",
        "          return dictionary\n",
        "      keys = sorted(list(dictionary.keys()))\n",
        "      values = [dictionary[k] for k in keys]\n",
        "      combinations = [dict(zip(keys, p))\n",
        "                        for p in list(itertools.product(*values))]\n",
        "      return combinations"
      ],
      "execution_count": 66,
      "outputs": []
    },
    {
      "cell_type": "code",
      "metadata": {
        "id": "WG2dBUn4hbEX"
      },
      "source": [
        "def parameter_combinations(raw=False):\n",
        "\n",
        "        parameter_combinations = {'proportion': [0.1, 0.25, 0.5, 0.75,\n",
        "                                                 1.0, 1.5, 2.0],\n",
        "                                  'n_neighbors': [3, 5, 7],\n",
        "                                  'C_p': [0.8, 1.0, 1.3, 1.6]}\n",
        "        return generate_parameter_combinations(parameter_combinations, raw)\n"
      ],
      "execution_count": 67,
      "outputs": []
    },
    {
      "cell_type": "code",
      "metadata": {
        "id": "6Va52l3NiD1B"
      },
      "source": [
        "        X = X_train\n",
        "        y = y_train        \n",
        "        class_stats, min_label, maj_label = class_label_statistics(X, y)\n",
        "\n",
        "        n_to_sample = det_n_to_sample(proportion,\n",
        "                                           class_stats[maj_label],\n",
        "                                           class_stats[min_label])\n",
        "\n",
        "        if n_to_sample == 0:\n",
        "            print(\"Sampling is not needed\")\n",
        "\n",
        "        X_min = X[y == min_label]"
      ],
      "execution_count": 68,
      "outputs": []
    },
    {
      "cell_type": "code",
      "metadata": {
        "id": "4xY0uSIvh1AI",
        "colab": {
          "base_uri": "https://localhost:8080/",
          "height": 419
        },
        "outputId": "23c37812-4a20-4be5-c9a4-e3c7c47fabd6"
      },
      "source": [
        "## Printing the minority class samples\n",
        "X_min"
      ],
      "execution_count": 69,
      "outputs": [
        {
          "output_type": "execute_result",
          "data": {
            "text/html": [
              "<div>\n",
              "<style scoped>\n",
              "    .dataframe tbody tr th:only-of-type {\n",
              "        vertical-align: middle;\n",
              "    }\n",
              "\n",
              "    .dataframe tbody tr th {\n",
              "        vertical-align: top;\n",
              "    }\n",
              "\n",
              "    .dataframe thead th {\n",
              "        text-align: right;\n",
              "    }\n",
              "</style>\n",
              "<table border=\"1\" class=\"dataframe\">\n",
              "  <thead>\n",
              "    <tr style=\"text-align: right;\">\n",
              "      <th></th>\n",
              "      <th>age</th>\n",
              "      <th>ejection_fraction</th>\n",
              "      <th>serum_creatinine</th>\n",
              "    </tr>\n",
              "  </thead>\n",
              "  <tbody>\n",
              "    <tr>\n",
              "      <th>2</th>\n",
              "      <td>0.092593</td>\n",
              "      <td>0.437500</td>\n",
              "      <td>0.056180</td>\n",
              "    </tr>\n",
              "    <tr>\n",
              "      <th>9</th>\n",
              "      <td>0.203704</td>\n",
              "      <td>0.229167</td>\n",
              "      <td>0.044944</td>\n",
              "    </tr>\n",
              "    <tr>\n",
              "      <th>13</th>\n",
              "      <td>0.555556</td>\n",
              "      <td>0.645833</td>\n",
              "      <td>0.089888</td>\n",
              "    </tr>\n",
              "    <tr>\n",
              "      <th>14</th>\n",
              "      <td>0.592593</td>\n",
              "      <td>0.229167</td>\n",
              "      <td>0.134831</td>\n",
              "    </tr>\n",
              "    <tr>\n",
              "      <th>16</th>\n",
              "      <td>0.777778</td>\n",
              "      <td>0.750000</td>\n",
              "      <td>0.056180</td>\n",
              "    </tr>\n",
              "    <tr>\n",
              "      <th>...</th>\n",
              "      <td>...</td>\n",
              "      <td>...</td>\n",
              "      <td>...</td>\n",
              "    </tr>\n",
              "    <tr>\n",
              "      <th>220</th>\n",
              "      <td>0.740741</td>\n",
              "      <td>0.500000</td>\n",
              "      <td>0.089888</td>\n",
              "    </tr>\n",
              "    <tr>\n",
              "      <th>224</th>\n",
              "      <td>0.370370</td>\n",
              "      <td>0.500000</td>\n",
              "      <td>0.280899</td>\n",
              "    </tr>\n",
              "    <tr>\n",
              "      <th>232</th>\n",
              "      <td>0.740741</td>\n",
              "      <td>0.437500</td>\n",
              "      <td>1.000000</td>\n",
              "    </tr>\n",
              "    <tr>\n",
              "      <th>233</th>\n",
              "      <td>0.685185</td>\n",
              "      <td>0.645833</td>\n",
              "      <td>0.146067</td>\n",
              "    </tr>\n",
              "    <tr>\n",
              "      <th>237</th>\n",
              "      <td>0.370370</td>\n",
              "      <td>0.500000</td>\n",
              "      <td>0.011236</td>\n",
              "    </tr>\n",
              "  </tbody>\n",
              "</table>\n",
              "<p>73 rows × 3 columns</p>\n",
              "</div>"
            ],
            "text/plain": [
              "          age  ejection_fraction  serum_creatinine\n",
              "2    0.092593           0.437500          0.056180\n",
              "9    0.203704           0.229167          0.044944\n",
              "13   0.555556           0.645833          0.089888\n",
              "14   0.592593           0.229167          0.134831\n",
              "16   0.777778           0.750000          0.056180\n",
              "..        ...                ...               ...\n",
              "220  0.740741           0.500000          0.089888\n",
              "224  0.370370           0.500000          0.280899\n",
              "232  0.740741           0.437500          1.000000\n",
              "233  0.685185           0.645833          0.146067\n",
              "237  0.370370           0.500000          0.011236\n",
              "\n",
              "[73 rows x 3 columns]"
            ]
          },
          "metadata": {
            "tags": []
          },
          "execution_count": 69
        }
      ]
    },
    {
      "cell_type": "code",
      "metadata": {
        "id": "6M21ZWvchidS"
      },
      "source": [
        "        # fitting nearest neighbors model to find neighbors of minority points\n",
        "        nn = NearestNeighbors(n_neighbors=n_neighbors + 1, n_jobs=n_jobs).fit(X)\n",
        "        dist, ind = nn.kneighbors(X_min)\n",
        "\n",
        "        # extracting the number of majority neighbors\n",
        "        weights = [np.sum(y[ind[i][1:]] == maj_label)\n",
        "                   for i in range(len(X_min))]\n",
        "        # determine distribution of generating data\n",
        "        weights = weights/np.sum(weights)\n"
      ],
      "execution_count": 70,
      "outputs": []
    },
    {
      "cell_type": "code",
      "metadata": {
        "colab": {
          "base_uri": "https://localhost:8080/"
        },
        "id": "wTMaKv-Sd86q",
        "outputId": "83a0a44a-adad-40cd-8d90-5df52ea4d425"
      },
      "source": [
        "# propabilty disturbution of minority class\n",
        "weights"
      ],
      "execution_count": 71,
      "outputs": [
        {
          "output_type": "execute_result",
          "data": {
            "text/plain": [
              "array([0.0245098 , 0.0245098 , 0.01470588, 0.00980392, 0.0245098 ,\n",
              "       0.0245098 , 0.01960784, 0.01470588, 0.00490196, 0.00490196,\n",
              "       0.01470588, 0.01470588, 0.        , 0.01470588, 0.00980392,\n",
              "       0.00980392, 0.01470588, 0.00490196, 0.00980392, 0.01960784,\n",
              "       0.00490196, 0.00980392, 0.0245098 , 0.00490196, 0.00980392,\n",
              "       0.00980392, 0.0245098 , 0.00980392, 0.01470588, 0.00980392,\n",
              "       0.00980392, 0.0245098 , 0.00980392, 0.01470588, 0.01960784,\n",
              "       0.01470588, 0.0245098 , 0.00980392, 0.01960784, 0.01960784,\n",
              "       0.00490196, 0.00980392, 0.00980392, 0.00980392, 0.00490196,\n",
              "       0.01470588, 0.01470588, 0.00980392, 0.01470588, 0.00490196,\n",
              "       0.00980392, 0.00490196, 0.0245098 , 0.0245098 , 0.01470588,\n",
              "       0.00980392, 0.00490196, 0.01470588, 0.01960784, 0.01470588,\n",
              "       0.00980392, 0.01960784, 0.00980392, 0.00980392, 0.01960784,\n",
              "       0.01470588, 0.01470588, 0.00490196, 0.01470588, 0.01960784,\n",
              "       0.00490196, 0.0245098 , 0.0245098 ])"
            ]
          },
          "metadata": {
            "tags": []
          },
          "execution_count": 71
        }
      ]
    },
    {
      "cell_type": "code",
      "metadata": {
        "id": "eXEHZ2E9hE1C"
      },
      "source": [
        "        nn = NearestNeighbors(n_neighbors=2, n_jobs=n_jobs).fit(X_min)\n",
        "        d_avg = np.mean(nn.kneighbors(X_min)[0][:, 1])\n",
        "        T_h = d_avg*C_p\n",
        "        \n",
        "        clusters = [np.array([i]) for i in range(len(X_min))]\n",
        "        dm = pairwise_distances(X_min)\n",
        "        for i in range(len(dm)):\n",
        "            dm[i, i] = np.inf\n"
      ],
      "execution_count": 72,
      "outputs": []
    },
    {
      "cell_type": "code",
      "metadata": {
        "colab": {
          "base_uri": "https://localhost:8080/"
        },
        "id": "ZplQhKHOIufY",
        "outputId": "29d6a19b-bf25-40d1-de22-929e8ae58ea1"
      },
      "source": [
        "# Shape of pairwise distance matrix before clustering\n",
        "dm.shape"
      ],
      "execution_count": 73,
      "outputs": [
        {
          "output_type": "execute_result",
          "data": {
            "text/plain": [
              "(73, 73)"
            ]
          },
          "metadata": {
            "tags": []
          },
          "execution_count": 73
        }
      ]
    },
    {
      "cell_type": "code",
      "metadata": {
        "id": "GyQU7ZxGL2i5"
      },
      "source": [
        "        while True:\n",
        "          min_coord = np.where(dm == np.min(dm))\n",
        "          merge_a = min_coord[0][0]\n",
        "          merge_b = min_coord[1][0]\n",
        "\n",
        "          if dm[merge_a, merge_b] > T_h or len(dm) == 1:\n",
        "            break\n",
        "\n",
        "          clusters[merge_a] = np.hstack(\n",
        "                        [clusters[merge_a], clusters[merge_b]])\n",
        "          del clusters[merge_b]\n",
        "        \n",
        "          dm[merge_a] = np.min(np.vstack([dm[merge_a], dm[merge_b]]), axis=0)\n",
        "          dm[:, merge_a] = dm[merge_a]\n",
        "        \n",
        "          dm = np.delete(dm, merge_b, axis=0)\n",
        "          dm = np.delete(dm, merge_b, axis=1)\n",
        "          for i in range(len(dm)):\n",
        "            dm[i, i] = np.inf"
      ],
      "execution_count": 74,
      "outputs": []
    },
    {
      "cell_type": "code",
      "metadata": {
        "colab": {
          "base_uri": "https://localhost:8080/"
        },
        "id": "zNTwDmtZMr6x",
        "outputId": "eae539df-f00a-4ea2-ef12-ad85b15db253"
      },
      "source": [
        "# Shape of pairwise distance matrix after clustering\n",
        "dm.shape"
      ],
      "execution_count": 75,
      "outputs": [
        {
          "output_type": "execute_result",
          "data": {
            "text/plain": [
              "(22, 22)"
            ]
          },
          "metadata": {
            "tags": []
          },
          "execution_count": 75
        }
      ]
    },
    {
      "cell_type": "code",
      "metadata": {
        "id": "PpddHjWqNB1n"
      },
      "source": [
        "        # extracting cluster labels\n",
        "        labels = np.zeros(len(X_min)).astype(int)\n",
        "        for i in range(len(clusters)):\n",
        "          for j in clusters[i]:\n",
        "                      labels[j] = i"
      ],
      "execution_count": 76,
      "outputs": []
    },
    {
      "cell_type": "code",
      "metadata": {
        "colab": {
          "base_uri": "https://localhost:8080/"
        },
        "id": "zce1eJNtNP96",
        "outputId": "ec839c97-0c4f-4980-d78c-ebeb410a0718"
      },
      "source": [
        "# Printing the cluster lael for the minority class samples\n",
        "print(labels)\n",
        "\n"
      ],
      "execution_count": 77,
      "outputs": [
        {
          "output_type": "stream",
          "text": [
            "[ 0  0  1  0  2  3  4  0  0  0  0  0  0  5  0  6  6  0  0  7  0  0  0  0\n",
            "  0  8  9  0  0 10  0  0  0  0  0 11 12  0  0  0 13  0  0 14  0  0  6  0\n",
            "  0  6 15  0  0 16  1  0 17  0  1  0 18  6  0 19  0  0  6  6  6  4 20 21\n",
            "  0]\n"
          ],
          "name": "stdout"
        }
      ]
    },
    {
      "cell_type": "code",
      "metadata": {
        "colab": {
          "base_uri": "https://localhost:8080/",
          "height": 312
        },
        "id": "jMGmeFMpOJ-y",
        "outputId": "02f14494-b6b1-4a37-d059-260a21cf0678"
      },
      "source": [
        "plt.hist(labels)\n",
        "plt.title(\" Histogram of minorinty class samples clusters using mean as the centroid\")\n",
        "plt.xlabel(\"Cluster numbers\")\n",
        "plt.ylabel(\"Numbers of samples\")"
      ],
      "execution_count": 78,
      "outputs": [
        {
          "output_type": "execute_result",
          "data": {
            "text/plain": [
              "Text(0, 0.5, 'Numbers of samples')"
            ]
          },
          "metadata": {
            "tags": []
          },
          "execution_count": 78
        },
        {
          "output_type": "display_data",
          "data": {
            "image/png": "[encoded data removed]",
            "text/plain": [
              "<Figure size 432x288 with 1 Axes>"
            ]
          },
          "metadata": {
            "tags": []
          }
        }
      ]
    },
    {
      "cell_type": "code",
      "metadata": {
        "colab": {
          "base_uri": "https://localhost:8080/"
        },
        "id": "7rZlI64SkY87",
        "outputId": "f95209cf-4dbf-4632-8516-a10c73bede67"
      },
      "source": [
        "X_min = np.array(X_min.values.tolist())\n",
        "X_min"
      ],
      "execution_count": 79,
      "outputs": [
        {
          "output_type": "execute_result",
          "data": {
            "text/plain": [
              "array([[0.09259259, 0.4375    , 0.05617978],\n",
              "       [0.2037037 , 0.22916667, 0.04494382],\n",
              "       [0.55555556, 0.64583333, 0.08988764],\n",
              "       [0.59259259, 0.22916667, 0.13483146],\n",
              "       [0.77777778, 0.75      , 0.05617978],\n",
              "       [0.37037037, 0.95833333, 0.06741573],\n",
              "       [0.37037037, 0.5       , 0.19101124],\n",
              "       [0.35185185, 0.22916667, 0.05617978],\n",
              "       [0.55555556, 0.22916667, 0.05617978],\n",
              "       [0.11111111, 0.0625    , 0.17977528],\n",
              "       [0.14814815, 0.33333333, 0.12359551],\n",
              "       [0.09259259, 0.22916667, 0.05617978],\n",
              "       [0.35185185, 0.125     , 0.21348315],\n",
              "       [0.83333333, 0.95833333, 0.07865169],\n",
              "       [0.46296296, 0.33333333, 0.12359551],\n",
              "       [0.77777778, 0.33333333, 0.07865169],\n",
              "       [0.87037037, 0.5       , 0.04494382],\n",
              "       [0.37037037, 0.125     , 0.02247191],\n",
              "       [0.46296296, 0.125     , 0.24719101],\n",
              "       [0.18518519, 0.54166667, 0.20224719],\n",
              "       [0.59259259, 0.22916667, 0.05617978],\n",
              "       [0.55555556, 0.125     , 0.1494382 ],\n",
              "       [0.18518519, 0.5       , 0.06741573],\n",
              "       [0.18518519, 0.125     , 0.15730337],\n",
              "       [0.64814815, 0.33333333, 0.1494382 ],\n",
              "       [1.        , 0.5       , 0.1494382 ],\n",
              "       [0.14814815, 0.85416667, 0.15730337],\n",
              "       [0.24074074, 0.125     , 0.1011236 ],\n",
              "       [0.46296296, 0.125     , 0.08988764],\n",
              "       [0.64814815, 0.5       , 0.39325843],\n",
              "       [0.16666667, 0.125     , 0.06741573],\n",
              "       [0.18518519, 0.33333333, 0.07865169],\n",
              "       [0.51851852, 0.22916667, 0.05617978],\n",
              "       [0.37037037, 0.22916667, 0.17977528],\n",
              "       [0.37037037, 0.22916667, 0.13483146],\n",
              "       [0.92592593, 0.75      , 0.05617978],\n",
              "       [0.55555556, 0.95833333, 0.08988764],\n",
              "       [0.64814815, 0.125     , 0.15730337],\n",
              "       [0.46296296, 0.22916667, 0.1494382 ],\n",
              "       [0.31481481, 0.33333333, 0.05617978],\n",
              "       [0.74074074, 0.125     , 0.43820225],\n",
              "       [0.64814815, 0.33333333, 0.1494382 ],\n",
              "       [0.27777778, 0.125     , 0.1494382 ],\n",
              "       [0.64814815, 0.02083333, 0.07865169],\n",
              "       [0.55555556, 0.22916667, 0.07865169],\n",
              "       [0.35185185, 0.22916667, 0.05617978],\n",
              "       [0.74074074, 0.5       , 0.06741573],\n",
              "       [0.37037037, 0.22916667, 0.2247191 ],\n",
              "       [0.40740741, 0.22916667, 0.04494382],\n",
              "       [0.85185185, 0.5       , 0.1494382 ],\n",
              "       [0.53703704, 0.4375    , 0.33707865],\n",
              "       [0.37037037, 0.125     , 0.26966292],\n",
              "       [0.27777778, 0.5       , 0.06741573],\n",
              "       [0.18518519, 0.75      , 0.01123596],\n",
              "       [0.55555556, 0.64583333, 0.07865169],\n",
              "       [0.59259259, 0.33333333, 0.13483146],\n",
              "       [0.09259259, 0.        , 0.03370787],\n",
              "       [0.46296296, 0.22916667, 0.1011236 ],\n",
              "       [0.55555556, 0.75      , 0.05617978],\n",
              "       [0.09259259, 0.33333333, 0.06741573],\n",
              "       [0.33333333, 0.5       , 0.59550562],\n",
              "       [0.64814815, 0.5       , 0.2247191 ],\n",
              "       [0.18518519, 0.4375    , 0.04494382],\n",
              "       [0.83333333, 0.64583333, 0.28089888],\n",
              "       [0.18518519, 0.4375    , 0.05617978],\n",
              "       [0.38272222, 0.33333333, 0.11235955],\n",
              "       [0.83333333, 0.4375    , 0.05617978],\n",
              "       [0.74074074, 0.5       , 0.15730337],\n",
              "       [0.74074074, 0.5       , 0.08988764],\n",
              "       [0.37037037, 0.5       , 0.28089888],\n",
              "       [0.74074074, 0.4375    , 1.        ],\n",
              "       [0.68518519, 0.64583333, 0.14606742],\n",
              "       [0.37037037, 0.5       , 0.01123596]])"
            ]
          },
          "metadata": {
            "tags": []
          },
          "execution_count": 79
        }
      ]
    },
    {
      "cell_type": "code",
      "metadata": {
        "id": "gomf_L-EW8q4"
      },
      "source": [
        "# do the sampling\n",
        "samples = []\n",
        "while len(samples) < n_to_sample:\n",
        "  idx = random_state.choice(np.arange(len(X_min)), p=weights)\n",
        "  if len(clusters[labels[idx]]) <= 1:\n",
        "      samples.append(X_min[idx])\n",
        "      continue\n",
        "  else:\n",
        "    random_idx = random_state.choice(clusters[labels[idx]])\n",
        "    while random_idx == idx:\n",
        "      random_idx = random_state.choice(clusters[labels[idx]])  \n",
        "    samples.append(sample_between_points(X_min[idx], X_min[random_idx]))                  \n",
        "\n",
        "X_generated = np.vstack([X, np.vstack(samples)])\n",
        "y_generated = np.hstack([y, np.repeat(min_label, len(samples))])"
      ],
      "execution_count": 80,
      "outputs": []
    },
    {
      "cell_type": "code",
      "metadata": {
        "colab": {
          "base_uri": "https://localhost:8080/"
        },
        "id": "VQiVPQ1FW9Fj",
        "outputId": "bdd880e8-94ea-4124-8140-9d699bbadba7"
      },
      "source": [
        "# Obtaining the new training dataset with artificial samples\n",
        "X_train_new = pd.DataFrame(data=X_generated, columns=[\"age\", \"ejection_fraction\", \"serum_creatinine\"])\n",
        "print(X_train_new)\n",
        "\n",
        "y_train_new = pd.DataFrame(data=y_generated, columns=[\"class\"]).values.ravel()\n",
        "print(y_train_new)\n",
        "print(y_train_new.shape)\t"
      ],
      "execution_count": 81,
      "outputs": [
        {
          "output_type": "stream",
          "text": [
            "          age  ejection_fraction  serum_creatinine\n",
            "0    0.759259           0.437500          0.076404\n",
            "1    0.185185           0.333333          0.022472\n",
            "2    0.092593           0.437500          0.056180\n",
            "3    0.222222           0.500000          0.056180\n",
            "4    0.185185           0.541667          0.033708\n",
            "..        ...                ...               ...\n",
            "327  0.806417           0.387033          0.067067\n",
            "328  0.359276           0.314095          0.060330\n",
            "329  0.370370           0.958333          0.067416\n",
            "330  0.483343           0.229167          0.156927\n",
            "331  0.430491           0.155442          0.191369\n",
            "\n",
            "[332 rows x 3 columns]\n",
            "[0. 0. 1. 0. 0. 0. 0. 0. 0. 1. 0. 0. 0. 1. 1. 0. 1. 0. 0. 0. 0. 0. 0. 0.\n",
            " 0. 0. 0. 0. 0. 0. 0. 1. 0. 0. 0. 0. 0. 1. 1. 1. 0. 0. 1. 0. 0. 0. 0. 0.\n",
            " 0. 1. 0. 0. 0. 0. 0. 1. 1. 0. 1. 1. 1. 0. 1. 0. 1. 0. 0. 0. 0. 1. 0. 0.\n",
            " 1. 1. 0. 0. 0. 0. 1. 0. 1. 0. 0. 1. 0. 0. 1. 1. 0. 0. 0. 1. 0. 0. 0. 0.\n",
            " 1. 1. 0. 0. 0. 0. 1. 0. 1. 1. 0. 0. 1. 0. 0. 0. 0. 0. 1. 0. 0. 0. 0. 0.\n",
            " 0. 0. 0. 0. 0. 0. 0. 0. 0. 1. 0. 0. 1. 0. 1. 1. 0. 0. 0. 0. 0. 1. 1. 1.\n",
            " 0. 0. 0. 0. 0. 1. 0. 0. 0. 0. 0. 0. 1. 0. 0. 1. 1. 0. 1. 0. 0. 1. 0. 0.\n",
            " 0. 0. 0. 1. 0. 1. 1. 0. 1. 0. 0. 0. 1. 1. 0. 0. 1. 1. 1. 0. 0. 1. 1. 0.\n",
            " 0. 0. 1. 1. 0. 0. 1. 1. 1. 0. 0. 0. 1. 1. 0. 1. 0. 0. 0. 0. 0. 0. 0. 0.\n",
            " 0. 0. 1. 1. 1. 0. 0. 0. 1. 0. 0. 0. 0. 0. 0. 0. 1. 1. 0. 0. 0. 1. 0. 1.\n",
            " 1. 1. 1. 1. 1. 1. 1. 1. 1. 1. 1. 1. 1. 1. 1. 1. 1. 1. 1. 1. 1. 1. 1. 1.\n",
            " 1. 1. 1. 1. 1. 1. 1. 1. 1. 1. 1. 1. 1. 1. 1. 1. 1. 1. 1. 1. 1. 1. 1. 1.\n",
            " 1. 1. 1. 1. 1. 1. 1. 1. 1. 1. 1. 1. 1. 1. 1. 1. 1. 1. 1. 1. 1. 1. 1. 1.\n",
            " 1. 1. 1. 1. 1. 1. 1. 1. 1. 1. 1. 1. 1. 1. 1. 1. 1. 1. 1. 1.]\n",
            "(332,)\n"
          ],
          "name": "stdout"
        }
      ]
    },
    {
      "cell_type": "code",
      "metadata": {
        "id": "dlHliCgGviGN"
      },
      "source": [
        "# Generate CSV files to be used in Custom SVM\n",
        "pd.DataFrame(X_train_new).to_csv(\"X_train_new.csv\")\n",
        "pd.DataFrame(y_train_new).to_csv(\"y_train_new.csv\")"
      ],
      "execution_count": 82,
      "outputs": []
    },
    {
      "cell_type": "markdown",
      "metadata": {
        "id": "vu4HalpR_bP7"
      },
      "source": [
        "## Training the model"
      ]
    },
    {
      "cell_type": "markdown",
      "metadata": {
        "id": "0zcA3SWR_bP7"
      },
      "source": [
        "\n",
        "### SVM model"
      ]
    },
    {
      "cell_type": "code",
      "metadata": {
        "colab": {
          "base_uri": "https://localhost:8080/"
        },
        "id": "ywPjx0L1BMiD",
        "outputId": "2be99c7b-7d40-400b-e27b-43069ee603e1"
      },
      "source": [
        "from sklearn import svm\n",
        "from sklearn.model_selection import GridSearchCV\n",
        "from sklearn.metrics import confusion_matrix, accuracy_score\n",
        "parameters = {'kernel':('linear', 'rbf','poly'), 'C':[0.1, 1, 10,100],'gamma':[0.1, 1, 10] }\n",
        "svc = svm.SVC(random_state=0)\n",
        "clf = GridSearchCV(svc, parameters)\n",
        "clf.fit(X_train_new, y_train_new)\n",
        "y_pred_SVM_CV = clf.predict(X_test)\n",
        "\n",
        "print(\"Using the score funtion:\",clf.score(X_test,y_test))\n",
        "print(\"The best param is:\", clf.best_params_)\n",
        "\n",
        "cm = confusion_matrix(y_test, y_pred_SVM_CV)\n",
        "print(cm)\n",
        "print(\"Accuracy Score:\",accuracy_score(y_test, y_pred_SVM_CV))\n",
        "print(\"F1 score:\",f1_score(y_test, y_pred_SVM_CV, average='macro'))\n",
        "print(\"MCC Score:\",matthews_corrcoef(y_test, y_pred_SVM_CV))"
      ],
      "execution_count": 83,
      "outputs": [
        {
          "output_type": "stream",
          "text": [
            "Using the score funtion: 0.7666666666666667\n",
            "The best param is: {'C': 10, 'gamma': 10, 'kernel': 'rbf'}\n",
            "[[31  6]\n",
            " [ 8 15]]\n",
            "Accuracy Score: 0.7666666666666667\n",
            "F1 score: 0.7488038277511961\n",
            "MCC Score: 0.49949290539169905\n"
          ],
          "name": "stdout"
        }
      ]
    },
    {
      "cell_type": "markdown",
      "metadata": {
        "id": "9N31tqur_bP7"
      },
      "source": [
        "### Neural network"
      ]
    },
    {
      "cell_type": "code",
      "metadata": {
        "id": "vjGAiCrj_bP7",
        "colab": {
          "base_uri": "https://localhost:8080/"
        },
        "outputId": "592a5cab-241b-40a1-fbbd-0dfd711199cb"
      },
      "source": [
        "#Trying Neural Networks (multilayer perceptron)\n",
        "from sklearn.neural_network import MLPClassifier\n",
        "maxScore = 0\n",
        "maxi = 0\n",
        "maxj = 0\n",
        "for i in range(2,6):\n",
        "    for j in range(2,6):\n",
        "        clf_nn = MLPClassifier(solver='lbfgs',alpha=1e-5,hidden_layer_sizes=(i,j),random_state = 1)\n",
        "        clf_nn.fit(X_train_new, y_train_new)#,batch_size=57, epochs=1000, validation_split=0.2)\n",
        "        y_pred_nn = clf_nn.predict(X_test)\n",
        "        print(\"*\"*20)\n",
        "#         print(clf_nn.loss_)\n",
        "        print(\"loss = %f\" %(clf_nn.loss_))\n",
        "\n",
        "\n",
        "\n",
        "        cm = confusion_matrix(y_test, y_pred_nn)\n",
        "        print(\"This is when the layer sizes is: %i,%i\" %(i,j))\n",
        "        print(cm)\n",
        "        Score = accuracy_score(y_test, y_pred_nn)\n",
        "        print(Score)\n",
        "        if (Score > maxScore):\n",
        "            maxScore= Score\n",
        "            maxi = i\n",
        "            maxj = j\n",
        "        print(\"F1 score:\",f1_score(y_test, y_pred_nn, average='macro'))\n",
        "        print(\"MCC Score:\",matthews_corrcoef(y_test, y_pred_nn))\n",
        "print(\"the best score was when the layer size was: %i,%i with a score of %04f\" %(maxi,maxj,maxScore))\n"
      ],
      "execution_count": 84,
      "outputs": [
        {
          "output_type": "stream",
          "text": [
            "********************\n",
            "loss = 0.693147\n",
            "This is when the layer sizes is: 2,2\n",
            "[[37  0]\n",
            " [23  0]]\n",
            "0.6166666666666667\n",
            "F1 score: 0.3814432989690722\n",
            "MCC Score: 0.0\n",
            "********************\n",
            "loss = 0.693147\n",
            "This is when the layer sizes is: 2,3\n",
            "[[ 0 37]\n",
            " [ 0 23]]\n",
            "0.38333333333333336\n",
            "F1 score: 0.27710843373493976\n",
            "MCC Score: 0.0\n",
            "********************\n",
            "loss = 0.693147\n",
            "This is when the layer sizes is: 2,4\n",
            "[[37  0]\n",
            " [23  0]]\n",
            "0.6166666666666667\n",
            "F1 score: 0.3814432989690722\n",
            "MCC Score: 0.0\n",
            "********************\n",
            "loss = 0.693147\n",
            "This is when the layer sizes is: 2,5\n",
            "[[ 0 37]\n",
            " [ 0 23]]\n",
            "0.38333333333333336\n",
            "F1 score: 0.27710843373493976\n",
            "MCC Score: 0.0\n",
            "********************\n",
            "loss = 0.693147\n",
            "This is when the layer sizes is: 3,2\n",
            "[[ 0 37]\n",
            " [ 0 23]]\n",
            "0.38333333333333336\n",
            "F1 score: 0.27710843373493976\n",
            "MCC Score: 0.0\n",
            "********************\n",
            "loss = 0.561504\n",
            "This is when the layer sizes is: 3,3\n",
            "[[31  6]\n",
            " [ 7 16]]\n",
            "0.7833333333333333\n",
            "F1 score: 0.7688888888888887\n",
            "MCC Score: 0.5382548280972278\n"
          ],
          "name": "stdout"
        },
        {
          "output_type": "stream",
          "text": [
            "/usr/local/lib/python3.6/dist-packages/sklearn/metrics/_classification.py:900: RuntimeWarning: invalid value encountered in double_scalars\n",
            "  mcc = cov_ytyp / np.sqrt(cov_ytyt * cov_ypyp)\n",
            "/usr/local/lib/python3.6/dist-packages/sklearn/metrics/_classification.py:900: RuntimeWarning: invalid value encountered in double_scalars\n",
            "  mcc = cov_ytyp / np.sqrt(cov_ytyt * cov_ypyp)\n",
            "/usr/local/lib/python3.6/dist-packages/sklearn/metrics/_classification.py:900: RuntimeWarning: invalid value encountered in double_scalars\n",
            "  mcc = cov_ytyp / np.sqrt(cov_ytyt * cov_ypyp)\n",
            "/usr/local/lib/python3.6/dist-packages/sklearn/metrics/_classification.py:900: RuntimeWarning: invalid value encountered in double_scalars\n",
            "  mcc = cov_ytyp / np.sqrt(cov_ytyt * cov_ypyp)\n",
            "/usr/local/lib/python3.6/dist-packages/sklearn/metrics/_classification.py:900: RuntimeWarning: invalid value encountered in double_scalars\n",
            "  mcc = cov_ytyp / np.sqrt(cov_ytyt * cov_ypyp)\n"
          ],
          "name": "stderr"
        },
        {
          "output_type": "stream",
          "text": [
            "********************\n",
            "loss = 0.553930\n",
            "This is when the layer sizes is: 3,4\n",
            "[[32  5]\n",
            " [11 12]]\n",
            "0.7333333333333333\n",
            "F1 score: 0.7\n",
            "MCC Score: 0.4171309643104571\n",
            "********************\n",
            "loss = 0.693145\n",
            "This is when the layer sizes is: 3,5\n",
            "[[ 1 36]\n",
            " [ 2 21]]\n",
            "0.36666666666666664\n",
            "F1 score: 0.28750000000000003\n",
            "MCC Score: -0.13369259122787552\n",
            "********************\n",
            "loss = 0.693147\n",
            "This is when the layer sizes is: 4,2\n",
            "[[ 0 37]\n",
            " [ 0 23]]\n",
            "0.38333333333333336\n",
            "F1 score: 0.27710843373493976\n",
            "MCC Score: 0.0\n",
            "********************\n",
            "loss = 0.693147\n",
            "This is when the layer sizes is: 4,3\n",
            "[[ 0 37]\n",
            " [ 0 23]]\n",
            "0.38333333333333336\n",
            "F1 score: 0.27710843373493976\n",
            "MCC Score: 0.0\n",
            "********************\n",
            "loss = 0.557349\n",
            "This is when the layer sizes is: 4,4\n",
            "[[31  6]\n",
            " [11 12]]\n",
            "0.7166666666666667\n",
            "F1 score: 0.6850879901204076\n",
            "MCC Score: 0.38150105974497217\n",
            "********************\n",
            "loss = 0.596212\n",
            "This is when the layer sizes is: 4,5\n",
            "[[30  7]\n",
            " [ 6 17]]\n",
            "0.7833333333333333\n",
            "F1 score: 0.7726610317691636\n",
            "MCC Score: 0.5457882752158589\n",
            "********************\n",
            "loss = 0.566519\n",
            "This is when the layer sizes is: 5,2\n",
            "[[30  7]\n",
            " [ 7 16]]\n",
            "0.7666666666666667\n"
          ],
          "name": "stdout"
        },
        {
          "output_type": "stream",
          "text": [
            "/usr/local/lib/python3.6/dist-packages/sklearn/metrics/_classification.py:900: RuntimeWarning: invalid value encountered in double_scalars\n",
            "  mcc = cov_ytyp / np.sqrt(cov_ytyt * cov_ypyp)\n",
            "/usr/local/lib/python3.6/dist-packages/sklearn/metrics/_classification.py:900: RuntimeWarning: invalid value encountered in double_scalars\n",
            "  mcc = cov_ytyp / np.sqrt(cov_ytyt * cov_ypyp)\n"
          ],
          "name": "stderr"
        },
        {
          "output_type": "stream",
          "text": [
            "F1 score: 0.7532314923619272\n",
            "MCC Score: 0.5064629847238543\n",
            "********************\n",
            "loss = 0.565770\n",
            "This is when the layer sizes is: 5,3\n",
            "[[30  7]\n",
            " [ 6 17]]\n",
            "0.7833333333333333\n",
            "F1 score: 0.7726610317691636\n",
            "MCC Score: 0.5457882752158589\n",
            "********************\n",
            "loss = 0.563325\n",
            "This is when the layer sizes is: 5,4\n",
            "[[31  6]\n",
            " [ 6 17]]\n",
            "0.8\n",
            "F1 score: 0.7884841363102232\n",
            "MCC Score: 0.5769682726204466\n",
            "********************\n",
            "loss = 0.542983\n",
            "This is when the layer sizes is: 5,5\n",
            "[[31  6]\n",
            " [ 8 15]]\n",
            "0.7666666666666667\n",
            "F1 score: 0.7488038277511961\n",
            "MCC Score: 0.49949290539169905\n",
            "the best score was when the layer size was: 5,4 with a score of 0.800000\n"
          ],
          "name": "stdout"
        },
        {
          "output_type": "stream",
          "text": [
            "/usr/local/lib/python3.6/dist-packages/sklearn/neural_network/_multilayer_perceptron.py:470: ConvergenceWarning: lbfgs failed to converge (status=1):\n",
            "STOP: TOTAL NO. of ITERATIONS REACHED LIMIT.\n",
            "\n",
            "Increase the number of iterations (max_iter) or scale the data as shown in:\n",
            "    https://scikit-learn.org/stable/modules/preprocessing.html\n",
            "  self.n_iter_ = _check_optimize_result(\"lbfgs\", opt_res, self.max_iter)\n"
          ],
          "name": "stderr"
        }
      ]
    },
    {
      "cell_type": "markdown",
      "metadata": {
        "id": "NCrP9VnS_bP7"
      },
      "source": [
        "### Random Forest "
      ]
    },
    {
      "cell_type": "code",
      "metadata": {
        "id": "qC8HZOYr_bP7",
        "colab": {
          "base_uri": "https://localhost:8080/"
        },
        "outputId": "fa74b070-8934-4daa-b645-f1752d017d3b"
      },
      "source": [
        "from sklearn.pipeline import Pipeline\n",
        "from sklearn.feature_selection import SelectKBest\n",
        "from sklearn.ensemble import RandomForestClassifier\n",
        "from sklearn.calibration import CalibratedClassifierCV\n",
        "from sklearn.model_selection import GridSearchCV\n",
        "\n",
        "\n",
        "calibrated_forest = CalibratedClassifierCV(base_estimator=RandomForestClassifier(n_estimators=20))\n",
        "\n",
        "\n",
        "pipe = Pipeline([('select', SelectKBest()),('model', calibrated_forest)])\n",
        "param_grid = {'select__k': [1, 2],'model__base_estimator__max_depth': [2, 4, 6, 8]}\n",
        "\n",
        "\n",
        "\n",
        "search = GridSearchCV(pipe, param_grid, cv=5).fit(X_train_new, y_train_new)\n",
        "y_pred_Pipe = search.predict(X_test)\n",
        "\n",
        "\n",
        "print(\"Using the score funtion:\",search.score(X_test,y_test))\n",
        "print(\"The best param is:\", search.best_params_)\n",
        "\n",
        "cm = confusion_matrix(y_test, y_pred_Pipe)\n",
        "print(cm)\n",
        "print(\"Accuracy Score:\",accuracy_score(y_test, y_pred_Pipe))\n",
        "print(\"F1 score:\",f1_score(y_test, y_pred_Pipe, average='macro'))\n",
        "print(\"MCC Score:\",matthews_corrcoef(y_test, y_pred_Pipe))\n"
      ],
      "execution_count": 85,
      "outputs": [
        {
          "output_type": "stream",
          "text": [
            "Using the score funtion: 0.7166666666666667\n",
            "The best param is: {'model__base_estimator__max_depth': 8, 'select__k': 2}\n",
            "[[30  7]\n",
            " [10 13]]\n",
            "Accuracy Score: 0.7166666666666667\n",
            "F1 score: 0.6919359710057384\n",
            "MCC Score: 0.3878289324509757\n"
          ],
          "name": "stdout"
        }
      ]
    },
    {
      "cell_type": "markdown",
      "metadata": {
        "id": "oMlYYCb8hrQc"
      },
      "source": [
        "### Logistic Regression"
      ]
    },
    {
      "cell_type": "code",
      "metadata": {
        "id": "IpayIBZZ_bP8",
        "colab": {
          "base_uri": "https://localhost:8080/"
        },
        "outputId": "e87efca6-1597-47c4-e83c-43b49f8900c8"
      },
      "source": [
        "from sklearn.linear_model import LogisticRegression\n",
        "parameters = {'solver':('newton-cg', 'lbfgs', 'liblinear', 'sag', 'saga'), 'C':[0.1, 1, 10,100],'fit_intercept':[True,False]}\n",
        "clf = GridSearchCV(estimator=LogisticRegression(), param_grid=parameters)\n",
        "clf = clf.fit(X_train_new, y_train_new)\n",
        "y_pred=clf.predict(X_test)\n",
        "print(\"Using the score funtion:\",clf.score(X_test,y_test))\n",
        "print(\"The best param is:\", clf.best_params_)\n",
        "print(confusion_matrix(y_test, y_pred))\n",
        "print(\"Accuracy Score:\",accuracy_score(y_test, y_pred))\n",
        "print(\"F1 score:\",f1_score(y_test, y_pred, average='macro'))\n",
        "print(\"MCC Score:\",matthews_corrcoef(y_test, y_pred))\n",
        "\n",
        "#print(y_pred)\n",
        "#print(accuracy_score(y_test, y_pred))\n",
        "#print(clf.predict_proba(X_test))\n",
        "#plt.figure(figsize=(10, 10))\n",
        "#plt.scatter(clf.predict_proba(X_test)[:,1],y_pred)\n",
        "#plt.scatter(clf.predict_proba(X_train)[:,1],y_train)\n",
        "\n"
      ],
      "execution_count": 86,
      "outputs": [
        {
          "output_type": "stream",
          "text": [
            "Using the score funtion: 0.7666666666666667\n",
            "The best param is: {'C': 100, 'fit_intercept': False, 'solver': 'newton-cg'}\n",
            "[[29  8]\n",
            " [ 6 17]]\n",
            "Accuracy Score: 0.7666666666666667\n",
            "F1 score: 0.7569444444444444\n",
            "MCC Score: 0.5156929620972371\n"
          ],
          "name": "stdout"
        }
      ]
    },
    {
      "cell_type": "markdown",
      "metadata": {
        "id": "pqUuQ7oihwPP"
      },
      "source": [
        "### Naive Bayes"
      ]
    },
    {
      "cell_type": "code",
      "metadata": {
        "id": "RMiuU0ho_bP8",
        "colab": {
          "base_uri": "https://localhost:8080/"
        },
        "outputId": "da057ade-e98e-4b3a-d22c-d1cfd00814f4"
      },
      "source": [
        "from sklearn.naive_bayes import GaussianNB\n",
        "gnb = GaussianNB()\n",
        "y_pred = gnb.fit(X_train_new, y_train_new).predict(X_test)\n",
        "cm_nb = confusion_matrix(y_test, y_pred)\n",
        "print(cm_nb)\n",
        "print(\"Accuracy Score:\",accuracy_score(y_test, y_pred))\n",
        "print(\"F1 score:\",f1_score(y_test, y_pred, average='macro'))\n",
        "print(\"MCC Score:\",matthews_corrcoef(y_test, y_pred))"
      ],
      "execution_count": 87,
      "outputs": [
        {
          "output_type": "stream",
          "text": [
            "[[34  3]\n",
            " [12 11]]\n",
            "Accuracy Score: 0.75\n",
            "F1 score: 0.7069358515141647\n",
            "MCC Score: 0.45657169762696875\n"
          ],
          "name": "stdout"
        }
      ]
    }
  ]
}