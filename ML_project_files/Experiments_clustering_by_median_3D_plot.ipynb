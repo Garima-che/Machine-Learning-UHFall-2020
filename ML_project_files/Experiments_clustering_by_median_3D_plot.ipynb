{
  "nbformat": 4,
  "nbformat_minor": 0,
  "metadata": {
    "colab": {
      "name": "Experiments_clustering by median_3D plot.ipynb",
      "provenance": [],
      "collapsed_sections": [],
      "toc_visible": true
    },
    "kernelspec": {
      "display_name": "Python 3",
      "language": "python",
      "name": "python3"
    },
    "language_info": {
      "codemirror_mode": {
        "name": "ipython",
        "version": 3
      },
      "file_extension": ".py",
      "mimetype": "text/x-python",
      "name": "python",
      "nbconvert_exporter": "python",
      "pygments_lexer": "ipython3",
      "version": "3.8.3"
    }
  },
  "cells": [
    {
      "cell_type": "markdown",
      "metadata": {
        "id": "pOyqYHTk_Q57"
      },
      "source": [
        "## Importing libraries and packages"
      ]
    },
    {
      "cell_type": "code",
      "metadata": {
        "id": "T_YHJjnD_Tja"
      },
      "source": [
        "# importing libraries\n",
        "import numpy as np\n",
        "import matplotlib.pyplot as plt\n",
        "import pandas as pd\n",
        "import seaborn as sns\n"
      ],
      "execution_count": 66,
      "outputs": []
    },
    {
      "cell_type": "markdown",
      "metadata": {
        "id": "vgC61-ah_WIz"
      },
      "source": [
        "## Importing the dataset"
      ]
    },
    {
      "cell_type": "code",
      "metadata": {
        "id": "UrxyEKGn_ez7"
      },
      "source": [
        "%matplotlib inline\n",
        "sns.set_style('whitegrid')\n",
        "df = pd.read_csv(r'heart_failure_clinical_records_dataset.csv')\n",
        "\n"
      ],
      "execution_count": 67,
      "outputs": []
    },
    {
      "cell_type": "code",
      "metadata": {
        "id": "o2Sx2U0Q_bP6"
      },
      "source": [
        "# Selecting only 3 highest correlated features (from random forest ranking and pearson correlation)\n",
        "df = pd.DataFrame(df.iloc[:,[0,4,7,-1]])"
      ],
      "execution_count": 68,
      "outputs": []
    },
    {
      "cell_type": "code",
      "metadata": {
        "scrolled": false,
        "id": "1dXG9eZb_bP6",
        "colab": {
          "base_uri": "https://localhost:8080/"
        },
        "outputId": "e51c2fb8-eacd-47c5-f402-3bcc2b62653c"
      },
      "source": [
        "# Appending the list of attributes to be used later when coupling- decoupling the dataframe\n",
        "ListAttr = []\n",
        "lengthOfList = len(df)\n",
        "for i in df:\n",
        "    print(i)\n",
        "    ListAttr.append(i)\n",
        "   \n"
      ],
      "execution_count": 69,
      "outputs": [
        {
          "output_type": "stream",
          "text": [
            "age\n",
            "ejection_fraction\n",
            "serum_creatinine\n",
            "DEATH_EVENT\n"
          ],
          "name": "stdout"
        }
      ]
    },
    {
      "cell_type": "markdown",
      "metadata": {
        "id": "j7Xi824E_bP7"
      },
      "source": [
        "## Splitting the dataframe in train and test sets"
      ]
    },
    {
      "cell_type": "code",
      "metadata": {
        "id": "OXWJIsFK_bP7",
        "colab": {
          "base_uri": "https://localhost:8080/"
        },
        "outputId": "a8e563e5-bd8d-4b86-f744-9e86f4ca6e20"
      },
      "source": [
        "from sklearn.model_selection import train_test_split\n",
        "df_train, df_test = train_test_split(df.iloc[:,:], test_size = 0.2, random_state = 0)\n",
        "print(df_train)"
      ],
      "execution_count": 70,
      "outputs": [
        {
          "output_type": "stream",
          "text": [
            "      age  ejection_fraction  serum_creatinine  DEATH_EVENT\n",
            "134  81.0                 35              1.18            0\n",
            "145  50.0                 30              0.70            0\n",
            "63   45.0                 35              1.00            1\n",
            "292  52.0                 38              1.00            0\n",
            "284  50.0                 40              0.80            0\n",
            "..    ...                ...               ...          ...\n",
            "251  55.0                 35              0.80            0\n",
            "192  50.0                 40              0.70            0\n",
            "117  85.0                 60              3.20            0\n",
            "47   60.0                 38              0.60            1\n",
            "172  70.0                 60              1.10            0\n",
            "\n",
            "[239 rows x 4 columns]\n"
          ],
          "name": "stdout"
        }
      ]
    },
    {
      "cell_type": "markdown",
      "metadata": {
        "id": "fkxyGiX7_bP7"
      },
      "source": [
        "## Scaling the train set features "
      ]
    },
    {
      "cell_type": "code",
      "metadata": {
        "id": "f60dJMfi_bP7"
      },
      "source": [
        "from sklearn.preprocessing import MinMaxScaler\n",
        "min_max_scaler = MinMaxScaler()\n",
        "df_train_scaled= min_max_scaler.fit_transform(df_train)\n",
        "\n",
        "df_train_scaled= pd.DataFrame(data= df_train_scaled, columns=ListAttr)\n",
        "df_test_scaled= min_max_scaler.transform(df_test)\n",
        "df_test_scaled= pd.DataFrame(data= df_test_scaled, columns=ListAttr)"
      ],
      "execution_count": 71,
      "outputs": []
    },
    {
      "cell_type": "markdown",
      "metadata": {
        "id": "vnSy40La_bP7"
      },
      "source": [
        "## Defining independent and dependent variables"
      ]
    },
    {
      "cell_type": "code",
      "metadata": {
        "id": "LhZBOF6T_bP7"
      },
      "source": [
        "X_train=df_train_scaled.iloc[:, 0:-1]\n",
        "y_train=df_train_scaled.iloc[:,-1]\n",
        "X_test=df_test_scaled.iloc[:,0:-1]\n",
        "y_test=df_test_scaled.iloc[:,-1]\n"
      ],
      "execution_count": 72,
      "outputs": []
    },
    {
      "cell_type": "markdown",
      "metadata": {
        "id": "VoZcgrse_bP6"
      },
      "source": [
        "## Dealing with data imbalance"
      ]
    },
    {
      "cell_type": "markdown",
      "metadata": {
        "id": "r7_qjDoJtcG5"
      },
      "source": [
        "### Using Median CBSO to create synthetic data"
      ]
    },
    {
      "cell_type": "code",
      "metadata": {
        "id": "YQx64ot4gPXc"
      },
      "source": [
        "import itertools\n",
        "from sklearn.neighbors import NearestNeighbors\n",
        "from sklearn.metrics.pairwise import pairwise_distances\n"
      ],
      "execution_count": 73,
      "outputs": []
    },
    {
      "cell_type": "code",
      "metadata": {
        "id": "Qu1otvRPhQbj"
      },
      "source": [
        "   def __init__(\n",
        "                 proportion=1.0,\n",
        "                 n_neighbors=5,\n",
        "                 C_p=1.3,\n",
        "                 n_jobs=1,\n",
        "                 random_state=None):\n",
        "\n",
        "        proportion = proportion\n",
        "        n_neighbors = n_neighbors\n",
        "        C_p = C_p\n",
        "        n_jobs = n_jobs\n",
        "\n",
        "        set_random_state(random_state)"
      ],
      "execution_count": 74,
      "outputs": []
    },
    {
      "cell_type": "code",
      "metadata": {
        "id": "EI4J7DyshBdG"
      },
      "source": [
        "def set_random_state(random_state):\n",
        "\n",
        "       \n",
        "\n",
        "        if random_state is None:\n",
        "           random_state = np.random\n",
        "        elif isinstance(random_state, int):\n",
        "           random_state = np.random.RandomState(random_state)\n",
        "        elif isinstance(random_state, np.random.RandomState):\n",
        "           random_state = random_state\n",
        "        elif random_state is np.random:\n",
        "            random_state = random_state\n",
        "        else:\n",
        "            raise ValueError(\n",
        "                \"random state cannot be initialized by \" + str(random_state))\n",
        "\n",
        "        return random_state    "
      ],
      "execution_count": 75,
      "outputs": []
    },
    {
      "cell_type": "code",
      "metadata": {
        "id": "JPClHhsXvdBI"
      },
      "source": [
        "        proportion=1.0\n",
        "        n_neighbors=5\n",
        "        C_p=1.3\n",
        "        n_jobs=1\n",
        "        random_state=None\n",
        "\n",
        "        \n",
        "        random_state = set_random_state(random_state)"
      ],
      "execution_count": 76,
      "outputs": []
    },
    {
      "cell_type": "code",
      "metadata": {
        "id": "adbXYpkr6LiI"
      },
      "source": [
        "class_stats = dict()\n",
        "min_label = maj_label = ''"
      ],
      "execution_count": 77,
      "outputs": []
    },
    {
      "cell_type": "code",
      "metadata": {
        "id": "B2mcBaVgg7gw"
      },
      "source": [
        "def class_label_statistics(X, y):\n",
        "        \"\"\"\n",
        "        determines class sizes and minority and majority labels\n",
        "        Args:\n",
        "            X (np.array): features\n",
        "            y (np.array): target labels\n",
        "        \"\"\"\n",
        "        unique, counts = np.unique(y, return_counts=True)\n",
        "        class_stats = dict(zip(unique, counts))\n",
        "        min_label = unique[0] if counts[0] < counts[1] else unique[1]\n",
        "        maj_label = unique[1] if counts[0] < counts[1] else unique[0]\n",
        "        # shorthands\n",
        "        min_label = min_label\n",
        "        maj_label = maj_label\n",
        "\n",
        "        return class_stats, min_label, maj_label"
      ],
      "execution_count": 78,
      "outputs": []
    },
    {
      "cell_type": "code",
      "metadata": {
        "id": "vMUWFtvmg-CT"
      },
      "source": [
        "def det_n_to_sample(strategy, n_maj, n_min):\n",
        "        if isinstance(strategy, float) or isinstance(strategy, int):\n",
        "            return max([0, int((n_maj - n_min)*strategy)])\n",
        "        else:\n",
        "            m = \"Value %s for parameter strategy is not supported\" % strategy\n",
        "            raise ValueError(__class__.__name__ + \": \" + m)"
      ],
      "execution_count": 79,
      "outputs": []
    },
    {
      "cell_type": "code",
      "metadata": {
        "id": "Frazz5UHhGdC"
      },
      "source": [
        " def sample_between_points(x, y):\n",
        "        return x + (y - x)*random_state.random_sample()"
      ],
      "execution_count": 80,
      "outputs": []
    },
    {
      "cell_type": "code",
      "metadata": {
        "id": "-Bf3VgiLhNCB"
      },
      "source": [
        "\n",
        "def generate_parameter_combinations(dictionary, raw):\n",
        "\n",
        "      if raw:\n",
        "          return dictionary\n",
        "      keys = sorted(list(dictionary.keys()))\n",
        "      values = [dictionary[k] for k in keys]\n",
        "      combinations = [dict(zip(keys, p))\n",
        "                        for p in list(itertools.product(*values))]\n",
        "      return combinations"
      ],
      "execution_count": 81,
      "outputs": []
    },
    {
      "cell_type": "code",
      "metadata": {
        "id": "WG2dBUn4hbEX"
      },
      "source": [
        "def parameter_combinations(raw=False):\n",
        "\n",
        "        parameter_combinations = {'proportion': [0.1, 0.25, 0.5, 0.75,\n",
        "                                                 1.0, 1.5, 2.0],\n",
        "                                  'n_neighbors': [3, 5, 7],\n",
        "                                  'C_p': [0.8, 1.0, 1.3, 1.6]}\n",
        "        return generate_parameter_combinations(parameter_combinations, raw)\n"
      ],
      "execution_count": 82,
      "outputs": []
    },
    {
      "cell_type": "code",
      "metadata": {
        "id": "6Va52l3NiD1B"
      },
      "source": [
        "        X = X_train\n",
        "        y = y_train        \n",
        "        class_stats, min_label, maj_label = class_label_statistics(X, y)\n",
        "\n",
        "        n_to_sample = det_n_to_sample(proportion,\n",
        "                                           class_stats[maj_label],\n",
        "                                           class_stats[min_label])\n",
        "\n",
        "        if n_to_sample == 0:\n",
        "            print(\"Sampling is not needed\")\n",
        "\n",
        "        X_min = X[y == min_label]"
      ],
      "execution_count": 83,
      "outputs": []
    },
    {
      "cell_type": "code",
      "metadata": {
        "id": "6M21ZWvchidS"
      },
      "source": [
        "        # fitting nearest neighbors model to find neighbors of minority points\n",
        "        nn = NearestNeighbors(n_neighbors=n_neighbors + 1, n_jobs=n_jobs).fit(X)\n",
        "        dist, ind = nn.kneighbors(X_min)\n",
        "\n",
        "        # extracting the number of majority neighbors\n",
        "        weights = [np.sum(y[ind[i][1:]] == maj_label)\n",
        "                   for i in range(len(X_min))]\n",
        "        # determine distribution of generating data\n",
        "        weights = weights/np.sum(weights)\n"
      ],
      "execution_count": 84,
      "outputs": []
    },
    {
      "cell_type": "code",
      "metadata": {
        "colab": {
          "base_uri": "https://localhost:8080/"
        },
        "id": "wTMaKv-Sd86q",
        "outputId": "9c387e46-ebb0-423e-e564-d6b89b6da820"
      },
      "source": [
        "# propabilty disturbution of minority class\n",
        "weights"
      ],
      "execution_count": 85,
      "outputs": [
        {
          "output_type": "execute_result",
          "data": {
            "text/plain": [
              "array([0.0245098 , 0.0245098 , 0.01470588, 0.00980392, 0.0245098 ,\n",
              "       0.0245098 , 0.01960784, 0.01470588, 0.00490196, 0.00490196,\n",
              "       0.01470588, 0.01470588, 0.        , 0.01470588, 0.00980392,\n",
              "       0.00980392, 0.01470588, 0.00490196, 0.00980392, 0.01960784,\n",
              "       0.00490196, 0.00980392, 0.0245098 , 0.00490196, 0.00980392,\n",
              "       0.00980392, 0.0245098 , 0.00980392, 0.01470588, 0.00980392,\n",
              "       0.00980392, 0.0245098 , 0.00980392, 0.01470588, 0.01960784,\n",
              "       0.01470588, 0.0245098 , 0.00980392, 0.01960784, 0.01960784,\n",
              "       0.00490196, 0.00980392, 0.00980392, 0.00980392, 0.00490196,\n",
              "       0.01470588, 0.01470588, 0.00980392, 0.01470588, 0.00490196,\n",
              "       0.00980392, 0.00490196, 0.0245098 , 0.0245098 , 0.01470588,\n",
              "       0.00980392, 0.00490196, 0.01470588, 0.01960784, 0.01470588,\n",
              "       0.00980392, 0.01960784, 0.00980392, 0.00980392, 0.01960784,\n",
              "       0.01470588, 0.01470588, 0.00490196, 0.01470588, 0.01960784,\n",
              "       0.00490196, 0.0245098 , 0.0245098 ])"
            ]
          },
          "metadata": {
            "tags": []
          },
          "execution_count": 85
        }
      ]
    },
    {
      "cell_type": "code",
      "metadata": {
        "id": "eXEHZ2E9hE1C"
      },
      "source": [
        "        nn = NearestNeighbors(n_neighbors=2, n_jobs=n_jobs).fit(X_min)\n",
        "        d_avg = np.median(nn.kneighbors(X_min)[0][:, 1])\n",
        "        T_h = d_avg*C_p\n",
        "        \n",
        "        clusters = [np.array([i]) for i in range(len(X_min))]\n",
        "        dm = pairwise_distances(X_min)\n",
        "        for i in range(len(dm)):\n",
        "            dm[i, i] = np.inf\n"
      ],
      "execution_count": 86,
      "outputs": []
    },
    {
      "cell_type": "code",
      "metadata": {
        "colab": {
          "base_uri": "https://localhost:8080/"
        },
        "id": "ZplQhKHOIufY",
        "outputId": "e8d7b448-2631-4262-8e6f-9e1a0651b176"
      },
      "source": [
        "# Shape of pairwise distance matrix before clustering\n",
        "dm.shape"
      ],
      "execution_count": 87,
      "outputs": [
        {
          "output_type": "execute_result",
          "data": {
            "text/plain": [
              "(73, 73)"
            ]
          },
          "metadata": {
            "tags": []
          },
          "execution_count": 87
        }
      ]
    },
    {
      "cell_type": "code",
      "metadata": {
        "id": "GyQU7ZxGL2i5"
      },
      "source": [
        "        while True:\n",
        "          min_coord = np.where(dm == np.min(dm))\n",
        "          merge_a = min_coord[0][0]\n",
        "          merge_b = min_coord[1][0]\n",
        "\n",
        "          if dm[merge_a, merge_b] > T_h or len(dm) == 1:\n",
        "            break\n",
        "\n",
        "          clusters[merge_a] = np.hstack(\n",
        "                        [clusters[merge_a], clusters[merge_b]])\n",
        "          del clusters[merge_b]\n",
        "        \n",
        "          dm[merge_a] = np.min(np.vstack([dm[merge_a], dm[merge_b]]), axis=0)\n",
        "          dm[:, merge_a] = dm[merge_a]\n",
        "        \n",
        "          dm = np.delete(dm, merge_b, axis=0)\n",
        "          dm = np.delete(dm, merge_b, axis=1)\n",
        "          for i in range(len(dm)):\n",
        "            dm[i, i] = np.inf"
      ],
      "execution_count": 88,
      "outputs": []
    },
    {
      "cell_type": "code",
      "metadata": {
        "colab": {
          "base_uri": "https://localhost:8080/"
        },
        "id": "zNTwDmtZMr6x",
        "outputId": "5690e630-f323-46c3-8d0e-d07db8369733"
      },
      "source": [
        "# Shape of pairwise distance matrix after clustering\n",
        "dm.shape"
      ],
      "execution_count": 89,
      "outputs": [
        {
          "output_type": "execute_result",
          "data": {
            "text/plain": [
              "(34, 34)"
            ]
          },
          "metadata": {
            "tags": []
          },
          "execution_count": 89
        }
      ]
    },
    {
      "cell_type": "code",
      "metadata": {
        "id": "PpddHjWqNB1n"
      },
      "source": [
        "        # extracting cluster labels\n",
        "        labels = np.zeros(len(X_min)).astype(int)\n",
        "        for i in range(len(clusters)):\n",
        "          for j in clusters[i]:\n",
        "                      labels[j] = i"
      ],
      "execution_count": 90,
      "outputs": []
    },
    {
      "cell_type": "code",
      "metadata": {
        "colab": {
          "base_uri": "https://localhost:8080/"
        },
        "id": "zce1eJNtNP96",
        "outputId": "922e8a3b-e832-46c5-fa7f-2630118bb2b2"
      },
      "source": [
        "# Printing the cluster lael for the minority class samples\n",
        "print(labels)\n",
        "\n"
      ],
      "execution_count": 91,
      "outputs": [
        {
          "output_type": "stream",
          "text": [
            "[ 0  1  2  3  4  5  6  3  3  7  0  0  7  8  9 10 11 12  7 13  3 14  0  7\n",
            "  3 15 16  7  3 17  7  0  3  3  3 18 19 14  3  9 20  3  7 21  3  3 22  3\n",
            "  3 23 24  7  0 25  2  3 26  3 27  0 28 29  0 30  0  9 11 22 22  6 31 32\n",
            " 33]\n"
          ],
          "name": "stdout"
        }
      ]
    },
    {
      "cell_type": "code",
      "metadata": {
        "colab": {
          "base_uri": "https://localhost:8080/",
          "height": 312
        },
        "id": "jMGmeFMpOJ-y",
        "outputId": "9d1ac660-3630-4140-80f7-2c1c9f147135"
      },
      "source": [
        "plt.hist(labels)\n",
        "plt.title(\" Histogram of minorinty class samples clusters using mean as the centroid\")\n",
        "plt.xlabel(\"Cluster numbers\")\n",
        "plt.ylabel(\"Numbers of samples\")"
      ],
      "execution_count": 92,
      "outputs": [
        {
          "output_type": "execute_result",
          "data": {
            "text/plain": [
              "Text(0, 0.5, 'Numbers of samples')"
            ]
          },
          "metadata": {
            "tags": []
          },
          "execution_count": 92
        },
        {
          "output_type": "display_data",
          "data": {
            "image/png": "[encoded data removed]",
            "text/plain": [
              "<Figure size 432x288 with 1 Axes>"
            ]
          },
          "metadata": {
            "tags": []
          }
        }
      ]
    },
    {
      "cell_type": "code",
      "metadata": {
        "colab": {
          "base_uri": "https://localhost:8080/",
          "height": 469
        },
        "id": "KkNJ-Q1lA1sE",
        "outputId": "f1c045e7-4ce2-459b-aa1e-a75384cf9b90"
      },
      "source": [
        "import re, seaborn as sns, numpy as np, pandas as pd, random\n",
        "from pylab import *\n",
        "from matplotlib.pyplot import plot, show, draw, figure, cm\n",
        "import matplotlib.pyplot as plt\n",
        "from mpl_toolkits.mplot3d import Axes3D\n",
        "sns.set_style(\"whitegrid\", {'axes.grid' : False})\n",
        "\n",
        "fig = plt.figure(figsize=(8,6))\n",
        "\n",
        "ax = Axes3D(fig) # Method 1\n",
        "# ax = fig.add_subplot(111, projection='3d') # Method 2\n",
        "\n",
        "x = X_min['age'].to_list()\n",
        "y = X_min['ejection_fraction'].to_list()\n",
        "z = X_min['serum_creatinine'].to_list()\n",
        "cluster= ax.scatter(x, y, z, c=labels, marker='o', cmap='hsv')\n",
        "cbar=plt.colorbar(cluster)\n",
        "ax.set_xlabel('Age')\n",
        "ax.set_ylabel('Ejection fraction')\n",
        "ax.set_zlabel('Serum Creatinine')\n",
        "ax.set_title('Clustering of minority samples using MEDIAN')\n",
        "\n",
        "plt.show()"
      ],
      "execution_count": 93,
      "outputs": [
        {
          "output_type": "display_data",
          "data": {
            "image/png": "[encoded data removed]",
            "text/plain": [
              "<Figure size 576x432 with 2 Axes>"
            ]
          },
          "metadata": {
            "tags": []
          }
        }
      ]
    }
  ]
}